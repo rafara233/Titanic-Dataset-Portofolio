{
 "cells": [
  {
   "cell_type": "code",
   "execution_count": 1,
   "id": "5ebb2948",
   "metadata": {
    "_cell_guid": "b1076dfc-b9ad-4769-8c92-a6c4dae69d19",
    "_uuid": "8f2839f25d086af736a60e9eeb907d3b93b6e0e5",
    "execution": {
     "iopub.execute_input": "2024-08-31T20:39:16.154387Z",
     "iopub.status.busy": "2024-08-31T20:39:16.153175Z",
     "iopub.status.idle": "2024-08-31T20:39:17.008042Z",
     "shell.execute_reply": "2024-08-31T20:39:17.006832Z"
    },
    "papermill": {
     "duration": 0.879602,
     "end_time": "2024-08-31T20:39:17.010636",
     "exception": false,
     "start_time": "2024-08-31T20:39:16.131034",
     "status": "completed"
    },
    "tags": []
   },
   "outputs": [
    {
     "name": "stdout",
     "output_type": "stream",
     "text": [
      "/kaggle/input/titanic/train.csv\n",
      "/kaggle/input/titanic/test.csv\n",
      "/kaggle/input/titanic/gender_submission.csv\n"
     ]
    }
   ],
   "source": [
    "# This Python 3 environment comes with many helpful analytics libraries installed\n",
    "# It is defined by the kaggle/python Docker image: https://github.com/kaggle/docker-python\n",
    "# For example, here's several helpful packages to load\n",
    "\n",
    "import numpy as np # linear algebra\n",
    "import pandas as pd # data processing, CSV file I/O (e.g. pd.read_csv)\n",
    "\n",
    "# Input data files are available in the read-only \"../input/\" directory\n",
    "# For example, running this (by clicking run or pressing Shift+Enter) will list all files under the input directory\n",
    "\n",
    "import os\n",
    "for dirname, _, filenames in os.walk('/kaggle/input'):\n",
    "    for filename in filenames:\n",
    "        print(os.path.join(dirname, filename))\n",
    "\n",
    "# You can write up to 20GB to the current directory (/kaggle/working/) that gets preserved as output when you create a version using \"Save & Run All\" \n",
    "# You can also write temporary files to /kaggle/temp/, but they won't be saved outside of the current session"
   ]
  },
  {
   "cell_type": "code",
   "execution_count": 2,
   "id": "65814c30",
   "metadata": {
    "execution": {
     "iopub.execute_input": "2024-08-31T20:39:17.052157Z",
     "iopub.status.busy": "2024-08-31T20:39:17.051565Z",
     "iopub.status.idle": "2024-08-31T20:39:17.112543Z",
     "shell.execute_reply": "2024-08-31T20:39:17.111413Z"
    },
    "papermill": {
     "duration": 0.084472,
     "end_time": "2024-08-31T20:39:17.115155",
     "exception": false,
     "start_time": "2024-08-31T20:39:17.030683",
     "status": "completed"
    },
    "tags": []
   },
   "outputs": [
    {
     "data": {
      "text/html": [
       "<div>\n",
       "<style scoped>\n",
       "    .dataframe tbody tr th:only-of-type {\n",
       "        vertical-align: middle;\n",
       "    }\n",
       "\n",
       "    .dataframe tbody tr th {\n",
       "        vertical-align: top;\n",
       "    }\n",
       "\n",
       "    .dataframe thead th {\n",
       "        text-align: right;\n",
       "    }\n",
       "</style>\n",
       "<table border=\"1\" class=\"dataframe\">\n",
       "  <thead>\n",
       "    <tr style=\"text-align: right;\">\n",
       "      <th></th>\n",
       "      <th>PassengerId</th>\n",
       "      <th>Survived</th>\n",
       "      <th>Pclass</th>\n",
       "      <th>Name</th>\n",
       "      <th>Sex</th>\n",
       "      <th>Age</th>\n",
       "      <th>SibSp</th>\n",
       "      <th>Parch</th>\n",
       "      <th>Ticket</th>\n",
       "      <th>Fare</th>\n",
       "      <th>Cabin</th>\n",
       "      <th>Embarked</th>\n",
       "    </tr>\n",
       "  </thead>\n",
       "  <tbody>\n",
       "    <tr>\n",
       "      <th>0</th>\n",
       "      <td>1</td>\n",
       "      <td>0</td>\n",
       "      <td>3</td>\n",
       "      <td>Braund, Mr. Owen Harris</td>\n",
       "      <td>male</td>\n",
       "      <td>22.0</td>\n",
       "      <td>1</td>\n",
       "      <td>0</td>\n",
       "      <td>A/5 21171</td>\n",
       "      <td>7.2500</td>\n",
       "      <td>NaN</td>\n",
       "      <td>S</td>\n",
       "    </tr>\n",
       "    <tr>\n",
       "      <th>1</th>\n",
       "      <td>2</td>\n",
       "      <td>1</td>\n",
       "      <td>1</td>\n",
       "      <td>Cumings, Mrs. John Bradley (Florence Briggs Th...</td>\n",
       "      <td>female</td>\n",
       "      <td>38.0</td>\n",
       "      <td>1</td>\n",
       "      <td>0</td>\n",
       "      <td>PC 17599</td>\n",
       "      <td>71.2833</td>\n",
       "      <td>C85</td>\n",
       "      <td>C</td>\n",
       "    </tr>\n",
       "    <tr>\n",
       "      <th>2</th>\n",
       "      <td>3</td>\n",
       "      <td>1</td>\n",
       "      <td>3</td>\n",
       "      <td>Heikkinen, Miss. Laina</td>\n",
       "      <td>female</td>\n",
       "      <td>26.0</td>\n",
       "      <td>0</td>\n",
       "      <td>0</td>\n",
       "      <td>STON/O2. 3101282</td>\n",
       "      <td>7.9250</td>\n",
       "      <td>NaN</td>\n",
       "      <td>S</td>\n",
       "    </tr>\n",
       "    <tr>\n",
       "      <th>3</th>\n",
       "      <td>4</td>\n",
       "      <td>1</td>\n",
       "      <td>1</td>\n",
       "      <td>Futrelle, Mrs. Jacques Heath (Lily May Peel)</td>\n",
       "      <td>female</td>\n",
       "      <td>35.0</td>\n",
       "      <td>1</td>\n",
       "      <td>0</td>\n",
       "      <td>113803</td>\n",
       "      <td>53.1000</td>\n",
       "      <td>C123</td>\n",
       "      <td>S</td>\n",
       "    </tr>\n",
       "    <tr>\n",
       "      <th>4</th>\n",
       "      <td>5</td>\n",
       "      <td>0</td>\n",
       "      <td>3</td>\n",
       "      <td>Allen, Mr. William Henry</td>\n",
       "      <td>male</td>\n",
       "      <td>35.0</td>\n",
       "      <td>0</td>\n",
       "      <td>0</td>\n",
       "      <td>373450</td>\n",
       "      <td>8.0500</td>\n",
       "      <td>NaN</td>\n",
       "      <td>S</td>\n",
       "    </tr>\n",
       "    <tr>\n",
       "      <th>...</th>\n",
       "      <td>...</td>\n",
       "      <td>...</td>\n",
       "      <td>...</td>\n",
       "      <td>...</td>\n",
       "      <td>...</td>\n",
       "      <td>...</td>\n",
       "      <td>...</td>\n",
       "      <td>...</td>\n",
       "      <td>...</td>\n",
       "      <td>...</td>\n",
       "      <td>...</td>\n",
       "      <td>...</td>\n",
       "    </tr>\n",
       "    <tr>\n",
       "      <th>886</th>\n",
       "      <td>887</td>\n",
       "      <td>0</td>\n",
       "      <td>2</td>\n",
       "      <td>Montvila, Rev. Juozas</td>\n",
       "      <td>male</td>\n",
       "      <td>27.0</td>\n",
       "      <td>0</td>\n",
       "      <td>0</td>\n",
       "      <td>211536</td>\n",
       "      <td>13.0000</td>\n",
       "      <td>NaN</td>\n",
       "      <td>S</td>\n",
       "    </tr>\n",
       "    <tr>\n",
       "      <th>887</th>\n",
       "      <td>888</td>\n",
       "      <td>1</td>\n",
       "      <td>1</td>\n",
       "      <td>Graham, Miss. Margaret Edith</td>\n",
       "      <td>female</td>\n",
       "      <td>19.0</td>\n",
       "      <td>0</td>\n",
       "      <td>0</td>\n",
       "      <td>112053</td>\n",
       "      <td>30.0000</td>\n",
       "      <td>B42</td>\n",
       "      <td>S</td>\n",
       "    </tr>\n",
       "    <tr>\n",
       "      <th>888</th>\n",
       "      <td>889</td>\n",
       "      <td>0</td>\n",
       "      <td>3</td>\n",
       "      <td>Johnston, Miss. Catherine Helen \"Carrie\"</td>\n",
       "      <td>female</td>\n",
       "      <td>NaN</td>\n",
       "      <td>1</td>\n",
       "      <td>2</td>\n",
       "      <td>W./C. 6607</td>\n",
       "      <td>23.4500</td>\n",
       "      <td>NaN</td>\n",
       "      <td>S</td>\n",
       "    </tr>\n",
       "    <tr>\n",
       "      <th>889</th>\n",
       "      <td>890</td>\n",
       "      <td>1</td>\n",
       "      <td>1</td>\n",
       "      <td>Behr, Mr. Karl Howell</td>\n",
       "      <td>male</td>\n",
       "      <td>26.0</td>\n",
       "      <td>0</td>\n",
       "      <td>0</td>\n",
       "      <td>111369</td>\n",
       "      <td>30.0000</td>\n",
       "      <td>C148</td>\n",
       "      <td>C</td>\n",
       "    </tr>\n",
       "    <tr>\n",
       "      <th>890</th>\n",
       "      <td>891</td>\n",
       "      <td>0</td>\n",
       "      <td>3</td>\n",
       "      <td>Dooley, Mr. Patrick</td>\n",
       "      <td>male</td>\n",
       "      <td>32.0</td>\n",
       "      <td>0</td>\n",
       "      <td>0</td>\n",
       "      <td>370376</td>\n",
       "      <td>7.7500</td>\n",
       "      <td>NaN</td>\n",
       "      <td>Q</td>\n",
       "    </tr>\n",
       "  </tbody>\n",
       "</table>\n",
       "<p>891 rows × 12 columns</p>\n",
       "</div>"
      ],
      "text/plain": [
       "     PassengerId  Survived  Pclass  \\\n",
       "0              1         0       3   \n",
       "1              2         1       1   \n",
       "2              3         1       3   \n",
       "3              4         1       1   \n",
       "4              5         0       3   \n",
       "..           ...       ...     ...   \n",
       "886          887         0       2   \n",
       "887          888         1       1   \n",
       "888          889         0       3   \n",
       "889          890         1       1   \n",
       "890          891         0       3   \n",
       "\n",
       "                                                  Name     Sex   Age  SibSp  \\\n",
       "0                              Braund, Mr. Owen Harris    male  22.0      1   \n",
       "1    Cumings, Mrs. John Bradley (Florence Briggs Th...  female  38.0      1   \n",
       "2                               Heikkinen, Miss. Laina  female  26.0      0   \n",
       "3         Futrelle, Mrs. Jacques Heath (Lily May Peel)  female  35.0      1   \n",
       "4                             Allen, Mr. William Henry    male  35.0      0   \n",
       "..                                                 ...     ...   ...    ...   \n",
       "886                              Montvila, Rev. Juozas    male  27.0      0   \n",
       "887                       Graham, Miss. Margaret Edith  female  19.0      0   \n",
       "888           Johnston, Miss. Catherine Helen \"Carrie\"  female   NaN      1   \n",
       "889                              Behr, Mr. Karl Howell    male  26.0      0   \n",
       "890                                Dooley, Mr. Patrick    male  32.0      0   \n",
       "\n",
       "     Parch            Ticket     Fare Cabin Embarked  \n",
       "0        0         A/5 21171   7.2500   NaN        S  \n",
       "1        0          PC 17599  71.2833   C85        C  \n",
       "2        0  STON/O2. 3101282   7.9250   NaN        S  \n",
       "3        0            113803  53.1000  C123        S  \n",
       "4        0            373450   8.0500   NaN        S  \n",
       "..     ...               ...      ...   ...      ...  \n",
       "886      0            211536  13.0000   NaN        S  \n",
       "887      0            112053  30.0000   B42        S  \n",
       "888      2        W./C. 6607  23.4500   NaN        S  \n",
       "889      0            111369  30.0000  C148        C  \n",
       "890      0            370376   7.7500   NaN        Q  \n",
       "\n",
       "[891 rows x 12 columns]"
      ]
     },
     "execution_count": 2,
     "metadata": {},
     "output_type": "execute_result"
    }
   ],
   "source": [
    "df = pd.read_csv(\"/kaggle/input/titanic/train.csv\")\n",
    "df"
   ]
  },
  {
   "cell_type": "code",
   "execution_count": 3,
   "id": "7728f4bb",
   "metadata": {
    "execution": {
     "iopub.execute_input": "2024-08-31T20:39:17.156826Z",
     "iopub.status.busy": "2024-08-31T20:39:17.156387Z",
     "iopub.status.idle": "2024-08-31T20:39:17.208532Z",
     "shell.execute_reply": "2024-08-31T20:39:17.207446Z"
    },
    "papermill": {
     "duration": 0.075973,
     "end_time": "2024-08-31T20:39:17.211106",
     "exception": false,
     "start_time": "2024-08-31T20:39:17.135133",
     "status": "completed"
    },
    "tags": []
   },
   "outputs": [
    {
     "data": {
      "text/html": [
       "<div>\n",
       "<style scoped>\n",
       "    .dataframe tbody tr th:only-of-type {\n",
       "        vertical-align: middle;\n",
       "    }\n",
       "\n",
       "    .dataframe tbody tr th {\n",
       "        vertical-align: top;\n",
       "    }\n",
       "\n",
       "    .dataframe thead th {\n",
       "        text-align: right;\n",
       "    }\n",
       "</style>\n",
       "<table border=\"1\" class=\"dataframe\">\n",
       "  <thead>\n",
       "    <tr style=\"text-align: right;\">\n",
       "      <th></th>\n",
       "      <th>PassengerId</th>\n",
       "      <th>Survived</th>\n",
       "      <th>Pclass</th>\n",
       "      <th>Name</th>\n",
       "      <th>Sex</th>\n",
       "      <th>Age</th>\n",
       "      <th>SibSp</th>\n",
       "      <th>Parch</th>\n",
       "      <th>Ticket</th>\n",
       "      <th>Fare</th>\n",
       "      <th>Cabin</th>\n",
       "      <th>Embarked</th>\n",
       "    </tr>\n",
       "  </thead>\n",
       "  <tbody>\n",
       "    <tr>\n",
       "      <th>count</th>\n",
       "      <td>891.000000</td>\n",
       "      <td>891.000000</td>\n",
       "      <td>891.000000</td>\n",
       "      <td>891</td>\n",
       "      <td>891</td>\n",
       "      <td>714.000000</td>\n",
       "      <td>891.000000</td>\n",
       "      <td>891.000000</td>\n",
       "      <td>891</td>\n",
       "      <td>891.000000</td>\n",
       "      <td>204</td>\n",
       "      <td>889</td>\n",
       "    </tr>\n",
       "    <tr>\n",
       "      <th>unique</th>\n",
       "      <td>NaN</td>\n",
       "      <td>NaN</td>\n",
       "      <td>NaN</td>\n",
       "      <td>891</td>\n",
       "      <td>2</td>\n",
       "      <td>NaN</td>\n",
       "      <td>NaN</td>\n",
       "      <td>NaN</td>\n",
       "      <td>681</td>\n",
       "      <td>NaN</td>\n",
       "      <td>147</td>\n",
       "      <td>3</td>\n",
       "    </tr>\n",
       "    <tr>\n",
       "      <th>top</th>\n",
       "      <td>NaN</td>\n",
       "      <td>NaN</td>\n",
       "      <td>NaN</td>\n",
       "      <td>Braund, Mr. Owen Harris</td>\n",
       "      <td>male</td>\n",
       "      <td>NaN</td>\n",
       "      <td>NaN</td>\n",
       "      <td>NaN</td>\n",
       "      <td>347082</td>\n",
       "      <td>NaN</td>\n",
       "      <td>B96 B98</td>\n",
       "      <td>S</td>\n",
       "    </tr>\n",
       "    <tr>\n",
       "      <th>freq</th>\n",
       "      <td>NaN</td>\n",
       "      <td>NaN</td>\n",
       "      <td>NaN</td>\n",
       "      <td>1</td>\n",
       "      <td>577</td>\n",
       "      <td>NaN</td>\n",
       "      <td>NaN</td>\n",
       "      <td>NaN</td>\n",
       "      <td>7</td>\n",
       "      <td>NaN</td>\n",
       "      <td>4</td>\n",
       "      <td>644</td>\n",
       "    </tr>\n",
       "    <tr>\n",
       "      <th>mean</th>\n",
       "      <td>446.000000</td>\n",
       "      <td>0.383838</td>\n",
       "      <td>2.308642</td>\n",
       "      <td>NaN</td>\n",
       "      <td>NaN</td>\n",
       "      <td>29.699118</td>\n",
       "      <td>0.523008</td>\n",
       "      <td>0.381594</td>\n",
       "      <td>NaN</td>\n",
       "      <td>32.204208</td>\n",
       "      <td>NaN</td>\n",
       "      <td>NaN</td>\n",
       "    </tr>\n",
       "    <tr>\n",
       "      <th>std</th>\n",
       "      <td>257.353842</td>\n",
       "      <td>0.486592</td>\n",
       "      <td>0.836071</td>\n",
       "      <td>NaN</td>\n",
       "      <td>NaN</td>\n",
       "      <td>14.526497</td>\n",
       "      <td>1.102743</td>\n",
       "      <td>0.806057</td>\n",
       "      <td>NaN</td>\n",
       "      <td>49.693429</td>\n",
       "      <td>NaN</td>\n",
       "      <td>NaN</td>\n",
       "    </tr>\n",
       "    <tr>\n",
       "      <th>min</th>\n",
       "      <td>1.000000</td>\n",
       "      <td>0.000000</td>\n",
       "      <td>1.000000</td>\n",
       "      <td>NaN</td>\n",
       "      <td>NaN</td>\n",
       "      <td>0.420000</td>\n",
       "      <td>0.000000</td>\n",
       "      <td>0.000000</td>\n",
       "      <td>NaN</td>\n",
       "      <td>0.000000</td>\n",
       "      <td>NaN</td>\n",
       "      <td>NaN</td>\n",
       "    </tr>\n",
       "    <tr>\n",
       "      <th>25%</th>\n",
       "      <td>223.500000</td>\n",
       "      <td>0.000000</td>\n",
       "      <td>2.000000</td>\n",
       "      <td>NaN</td>\n",
       "      <td>NaN</td>\n",
       "      <td>20.125000</td>\n",
       "      <td>0.000000</td>\n",
       "      <td>0.000000</td>\n",
       "      <td>NaN</td>\n",
       "      <td>7.910400</td>\n",
       "      <td>NaN</td>\n",
       "      <td>NaN</td>\n",
       "    </tr>\n",
       "    <tr>\n",
       "      <th>50%</th>\n",
       "      <td>446.000000</td>\n",
       "      <td>0.000000</td>\n",
       "      <td>3.000000</td>\n",
       "      <td>NaN</td>\n",
       "      <td>NaN</td>\n",
       "      <td>28.000000</td>\n",
       "      <td>0.000000</td>\n",
       "      <td>0.000000</td>\n",
       "      <td>NaN</td>\n",
       "      <td>14.454200</td>\n",
       "      <td>NaN</td>\n",
       "      <td>NaN</td>\n",
       "    </tr>\n",
       "    <tr>\n",
       "      <th>75%</th>\n",
       "      <td>668.500000</td>\n",
       "      <td>1.000000</td>\n",
       "      <td>3.000000</td>\n",
       "      <td>NaN</td>\n",
       "      <td>NaN</td>\n",
       "      <td>38.000000</td>\n",
       "      <td>1.000000</td>\n",
       "      <td>0.000000</td>\n",
       "      <td>NaN</td>\n",
       "      <td>31.000000</td>\n",
       "      <td>NaN</td>\n",
       "      <td>NaN</td>\n",
       "    </tr>\n",
       "    <tr>\n",
       "      <th>max</th>\n",
       "      <td>891.000000</td>\n",
       "      <td>1.000000</td>\n",
       "      <td>3.000000</td>\n",
       "      <td>NaN</td>\n",
       "      <td>NaN</td>\n",
       "      <td>80.000000</td>\n",
       "      <td>8.000000</td>\n",
       "      <td>6.000000</td>\n",
       "      <td>NaN</td>\n",
       "      <td>512.329200</td>\n",
       "      <td>NaN</td>\n",
       "      <td>NaN</td>\n",
       "    </tr>\n",
       "  </tbody>\n",
       "</table>\n",
       "</div>"
      ],
      "text/plain": [
       "        PassengerId    Survived      Pclass                     Name   Sex  \\\n",
       "count    891.000000  891.000000  891.000000                      891   891   \n",
       "unique          NaN         NaN         NaN                      891     2   \n",
       "top             NaN         NaN         NaN  Braund, Mr. Owen Harris  male   \n",
       "freq            NaN         NaN         NaN                        1   577   \n",
       "mean     446.000000    0.383838    2.308642                      NaN   NaN   \n",
       "std      257.353842    0.486592    0.836071                      NaN   NaN   \n",
       "min        1.000000    0.000000    1.000000                      NaN   NaN   \n",
       "25%      223.500000    0.000000    2.000000                      NaN   NaN   \n",
       "50%      446.000000    0.000000    3.000000                      NaN   NaN   \n",
       "75%      668.500000    1.000000    3.000000                      NaN   NaN   \n",
       "max      891.000000    1.000000    3.000000                      NaN   NaN   \n",
       "\n",
       "               Age       SibSp       Parch  Ticket        Fare    Cabin  \\\n",
       "count   714.000000  891.000000  891.000000     891  891.000000      204   \n",
       "unique         NaN         NaN         NaN     681         NaN      147   \n",
       "top            NaN         NaN         NaN  347082         NaN  B96 B98   \n",
       "freq           NaN         NaN         NaN       7         NaN        4   \n",
       "mean     29.699118    0.523008    0.381594     NaN   32.204208      NaN   \n",
       "std      14.526497    1.102743    0.806057     NaN   49.693429      NaN   \n",
       "min       0.420000    0.000000    0.000000     NaN    0.000000      NaN   \n",
       "25%      20.125000    0.000000    0.000000     NaN    7.910400      NaN   \n",
       "50%      28.000000    0.000000    0.000000     NaN   14.454200      NaN   \n",
       "75%      38.000000    1.000000    0.000000     NaN   31.000000      NaN   \n",
       "max      80.000000    8.000000    6.000000     NaN  512.329200      NaN   \n",
       "\n",
       "       Embarked  \n",
       "count       889  \n",
       "unique        3  \n",
       "top           S  \n",
       "freq        644  \n",
       "mean        NaN  \n",
       "std         NaN  \n",
       "min         NaN  \n",
       "25%         NaN  \n",
       "50%         NaN  \n",
       "75%         NaN  \n",
       "max         NaN  "
      ]
     },
     "execution_count": 3,
     "metadata": {},
     "output_type": "execute_result"
    }
   ],
   "source": [
    "df.describe(include=\"all\")\n"
   ]
  },
  {
   "cell_type": "markdown",
   "id": "809911d9",
   "metadata": {
    "papermill": {
     "duration": 0.02037,
     "end_time": "2024-08-31T20:39:17.252167",
     "exception": false,
     "start_time": "2024-08-31T20:39:17.231797",
     "status": "completed"
    },
    "tags": []
   },
   "source": [
    "# **Data Preprocessing**"
   ]
  },
  {
   "cell_type": "markdown",
   "id": "8ed5001c",
   "metadata": {
    "papermill": {
     "duration": 0.020324,
     "end_time": "2024-08-31T20:39:17.294025",
     "exception": false,
     "start_time": "2024-08-31T20:39:17.273701",
     "status": "completed"
    },
    "tags": []
   },
   "source": [
    "> # **Check Value**"
   ]
  },
  {
   "cell_type": "code",
   "execution_count": 4,
   "id": "e0f5aa8f",
   "metadata": {
    "execution": {
     "iopub.execute_input": "2024-08-31T20:39:17.338253Z",
     "iopub.status.busy": "2024-08-31T20:39:17.337383Z",
     "iopub.status.idle": "2024-08-31T20:39:17.347357Z",
     "shell.execute_reply": "2024-08-31T20:39:17.346254Z"
    },
    "papermill": {
     "duration": 0.034891,
     "end_time": "2024-08-31T20:39:17.349866",
     "exception": false,
     "start_time": "2024-08-31T20:39:17.314975",
     "status": "completed"
    },
    "tags": []
   },
   "outputs": [
    {
     "data": {
      "text/plain": [
       "PassengerId      0\n",
       "Survived         0\n",
       "Pclass           0\n",
       "Name             0\n",
       "Sex              0\n",
       "Age            177\n",
       "SibSp            0\n",
       "Parch            0\n",
       "Ticket           0\n",
       "Fare             0\n",
       "Cabin          687\n",
       "Embarked         2\n",
       "dtype: int64"
      ]
     },
     "execution_count": 4,
     "metadata": {},
     "output_type": "execute_result"
    }
   ],
   "source": [
    "df.isnull().sum()"
   ]
  },
  {
   "cell_type": "markdown",
   "id": "ce3118e7",
   "metadata": {
    "papermill": {
     "duration": 0.020289,
     "end_time": "2024-08-31T20:39:17.390866",
     "exception": false,
     "start_time": "2024-08-31T20:39:17.370577",
     "status": "completed"
    },
    "tags": []
   },
   "source": [
    "> # **Cleaning Data & Handling Missing Values**"
   ]
  },
  {
   "cell_type": "code",
   "execution_count": 5,
   "id": "f5293fc7",
   "metadata": {
    "execution": {
     "iopub.execute_input": "2024-08-31T20:39:17.434127Z",
     "iopub.status.busy": "2024-08-31T20:39:17.433355Z",
     "iopub.status.idle": "2024-08-31T20:39:17.440858Z",
     "shell.execute_reply": "2024-08-31T20:39:17.439807Z"
    },
    "papermill": {
     "duration": 0.031873,
     "end_time": "2024-08-31T20:39:17.443368",
     "exception": false,
     "start_time": "2024-08-31T20:39:17.411495",
     "status": "completed"
    },
    "tags": []
   },
   "outputs": [],
   "source": [
    "df['Age'] = df['Age'].fillna(df['Age'].median())"
   ]
  },
  {
   "cell_type": "code",
   "execution_count": 6,
   "id": "a77fda13",
   "metadata": {
    "execution": {
     "iopub.execute_input": "2024-08-31T20:39:17.487117Z",
     "iopub.status.busy": "2024-08-31T20:39:17.486360Z",
     "iopub.status.idle": "2024-08-31T20:39:17.493824Z",
     "shell.execute_reply": "2024-08-31T20:39:17.492534Z"
    },
    "papermill": {
     "duration": 0.032363,
     "end_time": "2024-08-31T20:39:17.496447",
     "exception": false,
     "start_time": "2024-08-31T20:39:17.464084",
     "status": "completed"
    },
    "tags": []
   },
   "outputs": [],
   "source": [
    "df['Embarked'] = df['Embarked'].fillna(df['Embarked'].mode()[0])"
   ]
  },
  {
   "cell_type": "code",
   "execution_count": 7,
   "id": "37c26d22",
   "metadata": {
    "execution": {
     "iopub.execute_input": "2024-08-31T20:39:17.539197Z",
     "iopub.status.busy": "2024-08-31T20:39:17.538789Z",
     "iopub.status.idle": "2024-08-31T20:39:17.546535Z",
     "shell.execute_reply": "2024-08-31T20:39:17.545435Z"
    },
    "papermill": {
     "duration": 0.031858,
     "end_time": "2024-08-31T20:39:17.548866",
     "exception": false,
     "start_time": "2024-08-31T20:39:17.517008",
     "status": "completed"
    },
    "tags": []
   },
   "outputs": [],
   "source": [
    "df = df.drop('Cabin', axis=1)"
   ]
  },
  {
   "cell_type": "code",
   "execution_count": 8,
   "id": "80a0b302",
   "metadata": {
    "execution": {
     "iopub.execute_input": "2024-08-31T20:39:17.592330Z",
     "iopub.status.busy": "2024-08-31T20:39:17.591855Z",
     "iopub.status.idle": "2024-08-31T20:39:17.602149Z",
     "shell.execute_reply": "2024-08-31T20:39:17.601058Z"
    },
    "papermill": {
     "duration": 0.034768,
     "end_time": "2024-08-31T20:39:17.604522",
     "exception": false,
     "start_time": "2024-08-31T20:39:17.569754",
     "status": "completed"
    },
    "tags": []
   },
   "outputs": [
    {
     "data": {
      "text/plain": [
       "PassengerId    0\n",
       "Survived       0\n",
       "Pclass         0\n",
       "Name           0\n",
       "Sex            0\n",
       "Age            0\n",
       "SibSp          0\n",
       "Parch          0\n",
       "Ticket         0\n",
       "Fare           0\n",
       "Embarked       0\n",
       "dtype: int64"
      ]
     },
     "execution_count": 8,
     "metadata": {},
     "output_type": "execute_result"
    }
   ],
   "source": [
    "df.isnull().sum()"
   ]
  },
  {
   "cell_type": "markdown",
   "id": "f0e5105d",
   "metadata": {
    "papermill": {
     "duration": 0.020751,
     "end_time": "2024-08-31T20:39:17.645740",
     "exception": false,
     "start_time": "2024-08-31T20:39:17.624989",
     "status": "completed"
    },
    "tags": []
   },
   "source": [
    "> # **Label Encorder**"
   ]
  },
  {
   "cell_type": "code",
   "execution_count": 9,
   "id": "ed60e0e0",
   "metadata": {
    "execution": {
     "iopub.execute_input": "2024-08-31T20:39:17.689705Z",
     "iopub.status.busy": "2024-08-31T20:39:17.688872Z",
     "iopub.status.idle": "2024-08-31T20:39:18.908423Z",
     "shell.execute_reply": "2024-08-31T20:39:18.907352Z"
    },
    "papermill": {
     "duration": 1.244605,
     "end_time": "2024-08-31T20:39:18.910958",
     "exception": false,
     "start_time": "2024-08-31T20:39:17.666353",
     "status": "completed"
    },
    "tags": []
   },
   "outputs": [
    {
     "data": {
      "text/html": [
       "<div>\n",
       "<style scoped>\n",
       "    .dataframe tbody tr th:only-of-type {\n",
       "        vertical-align: middle;\n",
       "    }\n",
       "\n",
       "    .dataframe tbody tr th {\n",
       "        vertical-align: top;\n",
       "    }\n",
       "\n",
       "    .dataframe thead th {\n",
       "        text-align: right;\n",
       "    }\n",
       "</style>\n",
       "<table border=\"1\" class=\"dataframe\">\n",
       "  <thead>\n",
       "    <tr style=\"text-align: right;\">\n",
       "      <th></th>\n",
       "      <th>PassengerId</th>\n",
       "      <th>Survived</th>\n",
       "      <th>Pclass</th>\n",
       "      <th>Name</th>\n",
       "      <th>Sex</th>\n",
       "      <th>Age</th>\n",
       "      <th>SibSp</th>\n",
       "      <th>Parch</th>\n",
       "      <th>Ticket</th>\n",
       "      <th>Fare</th>\n",
       "      <th>Embarked</th>\n",
       "    </tr>\n",
       "  </thead>\n",
       "  <tbody>\n",
       "    <tr>\n",
       "      <th>0</th>\n",
       "      <td>1</td>\n",
       "      <td>0</td>\n",
       "      <td>3</td>\n",
       "      <td>Braund, Mr. Owen Harris</td>\n",
       "      <td>1</td>\n",
       "      <td>22.0</td>\n",
       "      <td>1</td>\n",
       "      <td>0</td>\n",
       "      <td>A/5 21171</td>\n",
       "      <td>7.2500</td>\n",
       "      <td>2</td>\n",
       "    </tr>\n",
       "    <tr>\n",
       "      <th>1</th>\n",
       "      <td>2</td>\n",
       "      <td>1</td>\n",
       "      <td>1</td>\n",
       "      <td>Cumings, Mrs. John Bradley (Florence Briggs Th...</td>\n",
       "      <td>0</td>\n",
       "      <td>38.0</td>\n",
       "      <td>1</td>\n",
       "      <td>0</td>\n",
       "      <td>PC 17599</td>\n",
       "      <td>71.2833</td>\n",
       "      <td>0</td>\n",
       "    </tr>\n",
       "    <tr>\n",
       "      <th>2</th>\n",
       "      <td>3</td>\n",
       "      <td>1</td>\n",
       "      <td>3</td>\n",
       "      <td>Heikkinen, Miss. Laina</td>\n",
       "      <td>0</td>\n",
       "      <td>26.0</td>\n",
       "      <td>0</td>\n",
       "      <td>0</td>\n",
       "      <td>STON/O2. 3101282</td>\n",
       "      <td>7.9250</td>\n",
       "      <td>2</td>\n",
       "    </tr>\n",
       "    <tr>\n",
       "      <th>3</th>\n",
       "      <td>4</td>\n",
       "      <td>1</td>\n",
       "      <td>1</td>\n",
       "      <td>Futrelle, Mrs. Jacques Heath (Lily May Peel)</td>\n",
       "      <td>0</td>\n",
       "      <td>35.0</td>\n",
       "      <td>1</td>\n",
       "      <td>0</td>\n",
       "      <td>113803</td>\n",
       "      <td>53.1000</td>\n",
       "      <td>2</td>\n",
       "    </tr>\n",
       "    <tr>\n",
       "      <th>4</th>\n",
       "      <td>5</td>\n",
       "      <td>0</td>\n",
       "      <td>3</td>\n",
       "      <td>Allen, Mr. William Henry</td>\n",
       "      <td>1</td>\n",
       "      <td>35.0</td>\n",
       "      <td>0</td>\n",
       "      <td>0</td>\n",
       "      <td>373450</td>\n",
       "      <td>8.0500</td>\n",
       "      <td>2</td>\n",
       "    </tr>\n",
       "  </tbody>\n",
       "</table>\n",
       "</div>"
      ],
      "text/plain": [
       "   PassengerId  Survived  Pclass  \\\n",
       "0            1         0       3   \n",
       "1            2         1       1   \n",
       "2            3         1       3   \n",
       "3            4         1       1   \n",
       "4            5         0       3   \n",
       "\n",
       "                                                Name  Sex   Age  SibSp  Parch  \\\n",
       "0                            Braund, Mr. Owen Harris    1  22.0      1      0   \n",
       "1  Cumings, Mrs. John Bradley (Florence Briggs Th...    0  38.0      1      0   \n",
       "2                             Heikkinen, Miss. Laina    0  26.0      0      0   \n",
       "3       Futrelle, Mrs. Jacques Heath (Lily May Peel)    0  35.0      1      0   \n",
       "4                           Allen, Mr. William Henry    1  35.0      0      0   \n",
       "\n",
       "             Ticket     Fare  Embarked  \n",
       "0         A/5 21171   7.2500         2  \n",
       "1          PC 17599  71.2833         0  \n",
       "2  STON/O2. 3101282   7.9250         2  \n",
       "3            113803  53.1000         2  \n",
       "4            373450   8.0500         2  "
      ]
     },
     "execution_count": 9,
     "metadata": {},
     "output_type": "execute_result"
    }
   ],
   "source": [
    "from sklearn.preprocessing import LabelEncoder\n",
    "laen = LabelEncoder()\n",
    "df['Sex'] = laen.fit_transform(df['Sex'])\n",
    "df['Embarked'] = laen.fit_transform(df['Embarked'])\n",
    "df.head()"
   ]
  },
  {
   "cell_type": "markdown",
   "id": "3e8f3229",
   "metadata": {
    "papermill": {
     "duration": 0.020722,
     "end_time": "2024-08-31T20:39:18.952933",
     "exception": false,
     "start_time": "2024-08-31T20:39:18.932211",
     "status": "completed"
    },
    "tags": []
   },
   "source": [
    "> # **Feature Selection**"
   ]
  },
  {
   "cell_type": "code",
   "execution_count": 10,
   "id": "eea8abc2",
   "metadata": {
    "execution": {
     "iopub.execute_input": "2024-08-31T20:39:18.997413Z",
     "iopub.status.busy": "2024-08-31T20:39:18.996344Z",
     "iopub.status.idle": "2024-08-31T20:39:19.003627Z",
     "shell.execute_reply": "2024-08-31T20:39:19.002564Z"
    },
    "papermill": {
     "duration": 0.032222,
     "end_time": "2024-08-31T20:39:19.006120",
     "exception": false,
     "start_time": "2024-08-31T20:39:18.973898",
     "status": "completed"
    },
    "tags": []
   },
   "outputs": [],
   "source": [
    "features = ['Pclass', 'Sex', 'Age', 'SibSp', 'Parch', 'Fare', 'Embarked']\n",
    "x = df[features]\n",
    "y = df['Survived']"
   ]
  },
  {
   "cell_type": "code",
   "execution_count": 11,
   "id": "16d6ace0",
   "metadata": {
    "execution": {
     "iopub.execute_input": "2024-08-31T20:39:19.050111Z",
     "iopub.status.busy": "2024-08-31T20:39:19.049385Z",
     "iopub.status.idle": "2024-08-31T20:39:19.066158Z",
     "shell.execute_reply": "2024-08-31T20:39:19.065172Z"
    },
    "papermill": {
     "duration": 0.041544,
     "end_time": "2024-08-31T20:39:19.068711",
     "exception": false,
     "start_time": "2024-08-31T20:39:19.027167",
     "status": "completed"
    },
    "tags": []
   },
   "outputs": [
    {
     "data": {
      "text/html": [
       "<div>\n",
       "<style scoped>\n",
       "    .dataframe tbody tr th:only-of-type {\n",
       "        vertical-align: middle;\n",
       "    }\n",
       "\n",
       "    .dataframe tbody tr th {\n",
       "        vertical-align: top;\n",
       "    }\n",
       "\n",
       "    .dataframe thead th {\n",
       "        text-align: right;\n",
       "    }\n",
       "</style>\n",
       "<table border=\"1\" class=\"dataframe\">\n",
       "  <thead>\n",
       "    <tr style=\"text-align: right;\">\n",
       "      <th></th>\n",
       "      <th>Pclass</th>\n",
       "      <th>Sex</th>\n",
       "      <th>Age</th>\n",
       "      <th>SibSp</th>\n",
       "      <th>Parch</th>\n",
       "      <th>Fare</th>\n",
       "      <th>Embarked</th>\n",
       "    </tr>\n",
       "  </thead>\n",
       "  <tbody>\n",
       "    <tr>\n",
       "      <th>0</th>\n",
       "      <td>3</td>\n",
       "      <td>1</td>\n",
       "      <td>22.0</td>\n",
       "      <td>1</td>\n",
       "      <td>0</td>\n",
       "      <td>7.2500</td>\n",
       "      <td>2</td>\n",
       "    </tr>\n",
       "    <tr>\n",
       "      <th>1</th>\n",
       "      <td>1</td>\n",
       "      <td>0</td>\n",
       "      <td>38.0</td>\n",
       "      <td>1</td>\n",
       "      <td>0</td>\n",
       "      <td>71.2833</td>\n",
       "      <td>0</td>\n",
       "    </tr>\n",
       "    <tr>\n",
       "      <th>2</th>\n",
       "      <td>3</td>\n",
       "      <td>0</td>\n",
       "      <td>26.0</td>\n",
       "      <td>0</td>\n",
       "      <td>0</td>\n",
       "      <td>7.9250</td>\n",
       "      <td>2</td>\n",
       "    </tr>\n",
       "    <tr>\n",
       "      <th>3</th>\n",
       "      <td>1</td>\n",
       "      <td>0</td>\n",
       "      <td>35.0</td>\n",
       "      <td>1</td>\n",
       "      <td>0</td>\n",
       "      <td>53.1000</td>\n",
       "      <td>2</td>\n",
       "    </tr>\n",
       "    <tr>\n",
       "      <th>4</th>\n",
       "      <td>3</td>\n",
       "      <td>1</td>\n",
       "      <td>35.0</td>\n",
       "      <td>0</td>\n",
       "      <td>0</td>\n",
       "      <td>8.0500</td>\n",
       "      <td>2</td>\n",
       "    </tr>\n",
       "    <tr>\n",
       "      <th>...</th>\n",
       "      <td>...</td>\n",
       "      <td>...</td>\n",
       "      <td>...</td>\n",
       "      <td>...</td>\n",
       "      <td>...</td>\n",
       "      <td>...</td>\n",
       "      <td>...</td>\n",
       "    </tr>\n",
       "    <tr>\n",
       "      <th>886</th>\n",
       "      <td>2</td>\n",
       "      <td>1</td>\n",
       "      <td>27.0</td>\n",
       "      <td>0</td>\n",
       "      <td>0</td>\n",
       "      <td>13.0000</td>\n",
       "      <td>2</td>\n",
       "    </tr>\n",
       "    <tr>\n",
       "      <th>887</th>\n",
       "      <td>1</td>\n",
       "      <td>0</td>\n",
       "      <td>19.0</td>\n",
       "      <td>0</td>\n",
       "      <td>0</td>\n",
       "      <td>30.0000</td>\n",
       "      <td>2</td>\n",
       "    </tr>\n",
       "    <tr>\n",
       "      <th>888</th>\n",
       "      <td>3</td>\n",
       "      <td>0</td>\n",
       "      <td>28.0</td>\n",
       "      <td>1</td>\n",
       "      <td>2</td>\n",
       "      <td>23.4500</td>\n",
       "      <td>2</td>\n",
       "    </tr>\n",
       "    <tr>\n",
       "      <th>889</th>\n",
       "      <td>1</td>\n",
       "      <td>1</td>\n",
       "      <td>26.0</td>\n",
       "      <td>0</td>\n",
       "      <td>0</td>\n",
       "      <td>30.0000</td>\n",
       "      <td>0</td>\n",
       "    </tr>\n",
       "    <tr>\n",
       "      <th>890</th>\n",
       "      <td>3</td>\n",
       "      <td>1</td>\n",
       "      <td>32.0</td>\n",
       "      <td>0</td>\n",
       "      <td>0</td>\n",
       "      <td>7.7500</td>\n",
       "      <td>1</td>\n",
       "    </tr>\n",
       "  </tbody>\n",
       "</table>\n",
       "<p>891 rows × 7 columns</p>\n",
       "</div>"
      ],
      "text/plain": [
       "     Pclass  Sex   Age  SibSp  Parch     Fare  Embarked\n",
       "0         3    1  22.0      1      0   7.2500         2\n",
       "1         1    0  38.0      1      0  71.2833         0\n",
       "2         3    0  26.0      0      0   7.9250         2\n",
       "3         1    0  35.0      1      0  53.1000         2\n",
       "4         3    1  35.0      0      0   8.0500         2\n",
       "..      ...  ...   ...    ...    ...      ...       ...\n",
       "886       2    1  27.0      0      0  13.0000         2\n",
       "887       1    0  19.0      0      0  30.0000         2\n",
       "888       3    0  28.0      1      2  23.4500         2\n",
       "889       1    1  26.0      0      0  30.0000         0\n",
       "890       3    1  32.0      0      0   7.7500         1\n",
       "\n",
       "[891 rows x 7 columns]"
      ]
     },
     "execution_count": 11,
     "metadata": {},
     "output_type": "execute_result"
    }
   ],
   "source": [
    "x"
   ]
  },
  {
   "cell_type": "code",
   "execution_count": 12,
   "id": "b3ee97d5",
   "metadata": {
    "execution": {
     "iopub.execute_input": "2024-08-31T20:39:19.114357Z",
     "iopub.status.busy": "2024-08-31T20:39:19.113930Z",
     "iopub.status.idle": "2024-08-31T20:39:19.122508Z",
     "shell.execute_reply": "2024-08-31T20:39:19.121468Z"
    },
    "papermill": {
     "duration": 0.034612,
     "end_time": "2024-08-31T20:39:19.124947",
     "exception": false,
     "start_time": "2024-08-31T20:39:19.090335",
     "status": "completed"
    },
    "tags": []
   },
   "outputs": [
    {
     "data": {
      "text/plain": [
       "0      0\n",
       "1      1\n",
       "2      1\n",
       "3      1\n",
       "4      0\n",
       "      ..\n",
       "886    0\n",
       "887    1\n",
       "888    0\n",
       "889    1\n",
       "890    0\n",
       "Name: Survived, Length: 891, dtype: int64"
      ]
     },
     "execution_count": 12,
     "metadata": {},
     "output_type": "execute_result"
    }
   ],
   "source": [
    "y"
   ]
  },
  {
   "cell_type": "markdown",
   "id": "f9ab8ac9",
   "metadata": {
    "papermill": {
     "duration": 0.021168,
     "end_time": "2024-08-31T20:39:19.167663",
     "exception": false,
     "start_time": "2024-08-31T20:39:19.146495",
     "status": "completed"
    },
    "tags": []
   },
   "source": [
    "> # **Splitting the Dataset**"
   ]
  },
  {
   "cell_type": "code",
   "execution_count": 13,
   "id": "6f5e53fe",
   "metadata": {
    "execution": {
     "iopub.execute_input": "2024-08-31T20:39:19.213053Z",
     "iopub.status.busy": "2024-08-31T20:39:19.212196Z",
     "iopub.status.idle": "2024-08-31T20:39:19.319647Z",
     "shell.execute_reply": "2024-08-31T20:39:19.318487Z"
    },
    "papermill": {
     "duration": 0.13327,
     "end_time": "2024-08-31T20:39:19.322391",
     "exception": false,
     "start_time": "2024-08-31T20:39:19.189121",
     "status": "completed"
    },
    "tags": []
   },
   "outputs": [],
   "source": [
    "from sklearn.model_selection import train_test_split\n",
    "\n",
    "x_train, x_test, y_train, y_test = train_test_split(x, y, test_size=0.2, random_state=42)"
   ]
  },
  {
   "cell_type": "markdown",
   "id": "c2fa7ca8",
   "metadata": {
    "papermill": {
     "duration": 0.021322,
     "end_time": "2024-08-31T20:39:19.365774",
     "exception": false,
     "start_time": "2024-08-31T20:39:19.344452",
     "status": "completed"
    },
    "tags": []
   },
   "source": [
    "> # Data Train"
   ]
  },
  {
   "cell_type": "code",
   "execution_count": 14,
   "id": "12ff1404",
   "metadata": {
    "execution": {
     "iopub.execute_input": "2024-08-31T20:39:19.410421Z",
     "iopub.status.busy": "2024-08-31T20:39:19.409960Z",
     "iopub.status.idle": "2024-08-31T20:39:19.426851Z",
     "shell.execute_reply": "2024-08-31T20:39:19.425727Z"
    },
    "papermill": {
     "duration": 0.042021,
     "end_time": "2024-08-31T20:39:19.429195",
     "exception": false,
     "start_time": "2024-08-31T20:39:19.387174",
     "status": "completed"
    },
    "tags": []
   },
   "outputs": [
    {
     "data": {
      "text/html": [
       "<div>\n",
       "<style scoped>\n",
       "    .dataframe tbody tr th:only-of-type {\n",
       "        vertical-align: middle;\n",
       "    }\n",
       "\n",
       "    .dataframe tbody tr th {\n",
       "        vertical-align: top;\n",
       "    }\n",
       "\n",
       "    .dataframe thead th {\n",
       "        text-align: right;\n",
       "    }\n",
       "</style>\n",
       "<table border=\"1\" class=\"dataframe\">\n",
       "  <thead>\n",
       "    <tr style=\"text-align: right;\">\n",
       "      <th></th>\n",
       "      <th>Pclass</th>\n",
       "      <th>Sex</th>\n",
       "      <th>Age</th>\n",
       "      <th>SibSp</th>\n",
       "      <th>Parch</th>\n",
       "      <th>Fare</th>\n",
       "      <th>Embarked</th>\n",
       "    </tr>\n",
       "  </thead>\n",
       "  <tbody>\n",
       "    <tr>\n",
       "      <th>331</th>\n",
       "      <td>1</td>\n",
       "      <td>1</td>\n",
       "      <td>45.5</td>\n",
       "      <td>0</td>\n",
       "      <td>0</td>\n",
       "      <td>28.5000</td>\n",
       "      <td>2</td>\n",
       "    </tr>\n",
       "    <tr>\n",
       "      <th>733</th>\n",
       "      <td>2</td>\n",
       "      <td>1</td>\n",
       "      <td>23.0</td>\n",
       "      <td>0</td>\n",
       "      <td>0</td>\n",
       "      <td>13.0000</td>\n",
       "      <td>2</td>\n",
       "    </tr>\n",
       "    <tr>\n",
       "      <th>382</th>\n",
       "      <td>3</td>\n",
       "      <td>1</td>\n",
       "      <td>32.0</td>\n",
       "      <td>0</td>\n",
       "      <td>0</td>\n",
       "      <td>7.9250</td>\n",
       "      <td>2</td>\n",
       "    </tr>\n",
       "    <tr>\n",
       "      <th>704</th>\n",
       "      <td>3</td>\n",
       "      <td>1</td>\n",
       "      <td>26.0</td>\n",
       "      <td>1</td>\n",
       "      <td>0</td>\n",
       "      <td>7.8542</td>\n",
       "      <td>2</td>\n",
       "    </tr>\n",
       "    <tr>\n",
       "      <th>813</th>\n",
       "      <td>3</td>\n",
       "      <td>0</td>\n",
       "      <td>6.0</td>\n",
       "      <td>4</td>\n",
       "      <td>2</td>\n",
       "      <td>31.2750</td>\n",
       "      <td>2</td>\n",
       "    </tr>\n",
       "    <tr>\n",
       "      <th>...</th>\n",
       "      <td>...</td>\n",
       "      <td>...</td>\n",
       "      <td>...</td>\n",
       "      <td>...</td>\n",
       "      <td>...</td>\n",
       "      <td>...</td>\n",
       "      <td>...</td>\n",
       "    </tr>\n",
       "    <tr>\n",
       "      <th>106</th>\n",
       "      <td>3</td>\n",
       "      <td>0</td>\n",
       "      <td>21.0</td>\n",
       "      <td>0</td>\n",
       "      <td>0</td>\n",
       "      <td>7.6500</td>\n",
       "      <td>2</td>\n",
       "    </tr>\n",
       "    <tr>\n",
       "      <th>270</th>\n",
       "      <td>1</td>\n",
       "      <td>1</td>\n",
       "      <td>28.0</td>\n",
       "      <td>0</td>\n",
       "      <td>0</td>\n",
       "      <td>31.0000</td>\n",
       "      <td>2</td>\n",
       "    </tr>\n",
       "    <tr>\n",
       "      <th>860</th>\n",
       "      <td>3</td>\n",
       "      <td>1</td>\n",
       "      <td>41.0</td>\n",
       "      <td>2</td>\n",
       "      <td>0</td>\n",
       "      <td>14.1083</td>\n",
       "      <td>2</td>\n",
       "    </tr>\n",
       "    <tr>\n",
       "      <th>435</th>\n",
       "      <td>1</td>\n",
       "      <td>0</td>\n",
       "      <td>14.0</td>\n",
       "      <td>1</td>\n",
       "      <td>2</td>\n",
       "      <td>120.0000</td>\n",
       "      <td>2</td>\n",
       "    </tr>\n",
       "    <tr>\n",
       "      <th>102</th>\n",
       "      <td>1</td>\n",
       "      <td>1</td>\n",
       "      <td>21.0</td>\n",
       "      <td>0</td>\n",
       "      <td>1</td>\n",
       "      <td>77.2875</td>\n",
       "      <td>2</td>\n",
       "    </tr>\n",
       "  </tbody>\n",
       "</table>\n",
       "<p>712 rows × 7 columns</p>\n",
       "</div>"
      ],
      "text/plain": [
       "     Pclass  Sex   Age  SibSp  Parch      Fare  Embarked\n",
       "331       1    1  45.5      0      0   28.5000         2\n",
       "733       2    1  23.0      0      0   13.0000         2\n",
       "382       3    1  32.0      0      0    7.9250         2\n",
       "704       3    1  26.0      1      0    7.8542         2\n",
       "813       3    0   6.0      4      2   31.2750         2\n",
       "..      ...  ...   ...    ...    ...       ...       ...\n",
       "106       3    0  21.0      0      0    7.6500         2\n",
       "270       1    1  28.0      0      0   31.0000         2\n",
       "860       3    1  41.0      2      0   14.1083         2\n",
       "435       1    0  14.0      1      2  120.0000         2\n",
       "102       1    1  21.0      0      1   77.2875         2\n",
       "\n",
       "[712 rows x 7 columns]"
      ]
     },
     "execution_count": 14,
     "metadata": {},
     "output_type": "execute_result"
    }
   ],
   "source": [
    "x_train"
   ]
  },
  {
   "cell_type": "code",
   "execution_count": 15,
   "id": "025ddb4b",
   "metadata": {
    "execution": {
     "iopub.execute_input": "2024-08-31T20:39:19.475908Z",
     "iopub.status.busy": "2024-08-31T20:39:19.475153Z",
     "iopub.status.idle": "2024-08-31T20:39:19.484057Z",
     "shell.execute_reply": "2024-08-31T20:39:19.482861Z"
    },
    "papermill": {
     "duration": 0.035513,
     "end_time": "2024-08-31T20:39:19.486595",
     "exception": false,
     "start_time": "2024-08-31T20:39:19.451082",
     "status": "completed"
    },
    "tags": []
   },
   "outputs": [
    {
     "data": {
      "text/plain": [
       "331    0\n",
       "733    0\n",
       "382    0\n",
       "704    0\n",
       "813    0\n",
       "      ..\n",
       "106    1\n",
       "270    0\n",
       "860    0\n",
       "435    1\n",
       "102    0\n",
       "Name: Survived, Length: 712, dtype: int64"
      ]
     },
     "execution_count": 15,
     "metadata": {},
     "output_type": "execute_result"
    }
   ],
   "source": [
    "y_train"
   ]
  },
  {
   "cell_type": "markdown",
   "id": "dfab4bcc",
   "metadata": {
    "papermill": {
     "duration": 0.022106,
     "end_time": "2024-08-31T20:39:19.530853",
     "exception": false,
     "start_time": "2024-08-31T20:39:19.508747",
     "status": "completed"
    },
    "tags": []
   },
   "source": [
    "> # Data Test"
   ]
  },
  {
   "cell_type": "code",
   "execution_count": 16,
   "id": "bf5e23b8",
   "metadata": {
    "execution": {
     "iopub.execute_input": "2024-08-31T20:39:19.577014Z",
     "iopub.status.busy": "2024-08-31T20:39:19.576306Z",
     "iopub.status.idle": "2024-08-31T20:39:19.592688Z",
     "shell.execute_reply": "2024-08-31T20:39:19.591643Z"
    },
    "papermill": {
     "duration": 0.042834,
     "end_time": "2024-08-31T20:39:19.595700",
     "exception": false,
     "start_time": "2024-08-31T20:39:19.552866",
     "status": "completed"
    },
    "tags": []
   },
   "outputs": [
    {
     "data": {
      "text/html": [
       "<div>\n",
       "<style scoped>\n",
       "    .dataframe tbody tr th:only-of-type {\n",
       "        vertical-align: middle;\n",
       "    }\n",
       "\n",
       "    .dataframe tbody tr th {\n",
       "        vertical-align: top;\n",
       "    }\n",
       "\n",
       "    .dataframe thead th {\n",
       "        text-align: right;\n",
       "    }\n",
       "</style>\n",
       "<table border=\"1\" class=\"dataframe\">\n",
       "  <thead>\n",
       "    <tr style=\"text-align: right;\">\n",
       "      <th></th>\n",
       "      <th>Pclass</th>\n",
       "      <th>Sex</th>\n",
       "      <th>Age</th>\n",
       "      <th>SibSp</th>\n",
       "      <th>Parch</th>\n",
       "      <th>Fare</th>\n",
       "      <th>Embarked</th>\n",
       "    </tr>\n",
       "  </thead>\n",
       "  <tbody>\n",
       "    <tr>\n",
       "      <th>709</th>\n",
       "      <td>3</td>\n",
       "      <td>1</td>\n",
       "      <td>28.0</td>\n",
       "      <td>1</td>\n",
       "      <td>1</td>\n",
       "      <td>15.2458</td>\n",
       "      <td>0</td>\n",
       "    </tr>\n",
       "    <tr>\n",
       "      <th>439</th>\n",
       "      <td>2</td>\n",
       "      <td>1</td>\n",
       "      <td>31.0</td>\n",
       "      <td>0</td>\n",
       "      <td>0</td>\n",
       "      <td>10.5000</td>\n",
       "      <td>2</td>\n",
       "    </tr>\n",
       "    <tr>\n",
       "      <th>840</th>\n",
       "      <td>3</td>\n",
       "      <td>1</td>\n",
       "      <td>20.0</td>\n",
       "      <td>0</td>\n",
       "      <td>0</td>\n",
       "      <td>7.9250</td>\n",
       "      <td>2</td>\n",
       "    </tr>\n",
       "    <tr>\n",
       "      <th>720</th>\n",
       "      <td>2</td>\n",
       "      <td>0</td>\n",
       "      <td>6.0</td>\n",
       "      <td>0</td>\n",
       "      <td>1</td>\n",
       "      <td>33.0000</td>\n",
       "      <td>2</td>\n",
       "    </tr>\n",
       "    <tr>\n",
       "      <th>39</th>\n",
       "      <td>3</td>\n",
       "      <td>0</td>\n",
       "      <td>14.0</td>\n",
       "      <td>1</td>\n",
       "      <td>0</td>\n",
       "      <td>11.2417</td>\n",
       "      <td>0</td>\n",
       "    </tr>\n",
       "    <tr>\n",
       "      <th>...</th>\n",
       "      <td>...</td>\n",
       "      <td>...</td>\n",
       "      <td>...</td>\n",
       "      <td>...</td>\n",
       "      <td>...</td>\n",
       "      <td>...</td>\n",
       "      <td>...</td>\n",
       "    </tr>\n",
       "    <tr>\n",
       "      <th>433</th>\n",
       "      <td>3</td>\n",
       "      <td>1</td>\n",
       "      <td>17.0</td>\n",
       "      <td>0</td>\n",
       "      <td>0</td>\n",
       "      <td>7.1250</td>\n",
       "      <td>2</td>\n",
       "    </tr>\n",
       "    <tr>\n",
       "      <th>773</th>\n",
       "      <td>3</td>\n",
       "      <td>1</td>\n",
       "      <td>28.0</td>\n",
       "      <td>0</td>\n",
       "      <td>0</td>\n",
       "      <td>7.2250</td>\n",
       "      <td>0</td>\n",
       "    </tr>\n",
       "    <tr>\n",
       "      <th>25</th>\n",
       "      <td>3</td>\n",
       "      <td>0</td>\n",
       "      <td>38.0</td>\n",
       "      <td>1</td>\n",
       "      <td>5</td>\n",
       "      <td>31.3875</td>\n",
       "      <td>2</td>\n",
       "    </tr>\n",
       "    <tr>\n",
       "      <th>84</th>\n",
       "      <td>2</td>\n",
       "      <td>0</td>\n",
       "      <td>17.0</td>\n",
       "      <td>0</td>\n",
       "      <td>0</td>\n",
       "      <td>10.5000</td>\n",
       "      <td>2</td>\n",
       "    </tr>\n",
       "    <tr>\n",
       "      <th>10</th>\n",
       "      <td>3</td>\n",
       "      <td>0</td>\n",
       "      <td>4.0</td>\n",
       "      <td>1</td>\n",
       "      <td>1</td>\n",
       "      <td>16.7000</td>\n",
       "      <td>2</td>\n",
       "    </tr>\n",
       "  </tbody>\n",
       "</table>\n",
       "<p>179 rows × 7 columns</p>\n",
       "</div>"
      ],
      "text/plain": [
       "     Pclass  Sex   Age  SibSp  Parch     Fare  Embarked\n",
       "709       3    1  28.0      1      1  15.2458         0\n",
       "439       2    1  31.0      0      0  10.5000         2\n",
       "840       3    1  20.0      0      0   7.9250         2\n",
       "720       2    0   6.0      0      1  33.0000         2\n",
       "39        3    0  14.0      1      0  11.2417         0\n",
       "..      ...  ...   ...    ...    ...      ...       ...\n",
       "433       3    1  17.0      0      0   7.1250         2\n",
       "773       3    1  28.0      0      0   7.2250         0\n",
       "25        3    0  38.0      1      5  31.3875         2\n",
       "84        2    0  17.0      0      0  10.5000         2\n",
       "10        3    0   4.0      1      1  16.7000         2\n",
       "\n",
       "[179 rows x 7 columns]"
      ]
     },
     "execution_count": 16,
     "metadata": {},
     "output_type": "execute_result"
    }
   ],
   "source": [
    "x_test"
   ]
  },
  {
   "cell_type": "code",
   "execution_count": 17,
   "id": "bf3b1c03",
   "metadata": {
    "execution": {
     "iopub.execute_input": "2024-08-31T20:39:19.643777Z",
     "iopub.status.busy": "2024-08-31T20:39:19.642555Z",
     "iopub.status.idle": "2024-08-31T20:39:19.651304Z",
     "shell.execute_reply": "2024-08-31T20:39:19.650206Z"
    },
    "papermill": {
     "duration": 0.034803,
     "end_time": "2024-08-31T20:39:19.653656",
     "exception": false,
     "start_time": "2024-08-31T20:39:19.618853",
     "status": "completed"
    },
    "tags": []
   },
   "outputs": [
    {
     "data": {
      "text/plain": [
       "709    1\n",
       "439    0\n",
       "840    0\n",
       "720    1\n",
       "39     1\n",
       "      ..\n",
       "433    0\n",
       "773    0\n",
       "25     1\n",
       "84     1\n",
       "10     1\n",
       "Name: Survived, Length: 179, dtype: int64"
      ]
     },
     "execution_count": 17,
     "metadata": {},
     "output_type": "execute_result"
    }
   ],
   "source": [
    "y_test"
   ]
  },
  {
   "cell_type": "markdown",
   "id": "54c25bc1",
   "metadata": {
    "papermill": {
     "duration": 0.02241,
     "end_time": "2024-08-31T20:39:19.698885",
     "exception": false,
     "start_time": "2024-08-31T20:39:19.676475",
     "status": "completed"
    },
    "tags": []
   },
   "source": [
    "> # **Categorizing Data**"
   ]
  },
  {
   "cell_type": "code",
   "execution_count": 18,
   "id": "742b35ac",
   "metadata": {
    "execution": {
     "iopub.execute_input": "2024-08-31T20:39:19.747289Z",
     "iopub.status.busy": "2024-08-31T20:39:19.746400Z",
     "iopub.status.idle": "2024-08-31T20:39:20.387609Z",
     "shell.execute_reply": "2024-08-31T20:39:20.386445Z"
    },
    "papermill": {
     "duration": 0.668682,
     "end_time": "2024-08-31T20:39:20.390315",
     "exception": false,
     "start_time": "2024-08-31T20:39:19.721633",
     "status": "completed"
    },
    "tags": []
   },
   "outputs": [],
   "source": [
    "import seaborn as sns\n",
    "import matplotlib.pyplot as plt\n"
   ]
  },
  {
   "cell_type": "markdown",
   "id": "178acfe1",
   "metadata": {
    "papermill": {
     "duration": 0.022311,
     "end_time": "2024-08-31T20:39:20.435361",
     "exception": false,
     "start_time": "2024-08-31T20:39:20.413050",
     "status": "completed"
    },
    "tags": []
   },
   "source": [
    "> # Survival Rate by Age Group"
   ]
  },
  {
   "cell_type": "code",
   "execution_count": 19,
   "id": "5fda3c32",
   "metadata": {
    "execution": {
     "iopub.execute_input": "2024-08-31T20:39:20.483012Z",
     "iopub.status.busy": "2024-08-31T20:39:20.481860Z",
     "iopub.status.idle": "2024-08-31T20:39:20.493976Z",
     "shell.execute_reply": "2024-08-31T20:39:20.492842Z"
    },
    "papermill": {
     "duration": 0.038579,
     "end_time": "2024-08-31T20:39:20.496478",
     "exception": false,
     "start_time": "2024-08-31T20:39:20.457899",
     "status": "completed"
    },
    "tags": []
   },
   "outputs": [],
   "source": [
    "bins = [0, 12, 18, 25, 35, 60, 80]\n",
    "labels = ['Child', 'Teen', 'Young Adult', 'Adult', 'Middle-Aged', 'Senior']\n",
    "df['AgeGroup'] = pd.cut(df['Age'], bins=bins, labels=labels)"
   ]
  },
  {
   "cell_type": "code",
   "execution_count": 20,
   "id": "62e79cec",
   "metadata": {
    "execution": {
     "iopub.execute_input": "2024-08-31T20:39:20.544494Z",
     "iopub.status.busy": "2024-08-31T20:39:20.543572Z",
     "iopub.status.idle": "2024-08-31T20:39:20.907291Z",
     "shell.execute_reply": "2024-08-31T20:39:20.906125Z"
    },
    "papermill": {
     "duration": 0.390816,
     "end_time": "2024-08-31T20:39:20.910035",
     "exception": false,
     "start_time": "2024-08-31T20:39:20.519219",
     "status": "completed"
    },
    "tags": []
   },
   "outputs": [
    {
     "name": "stderr",
     "output_type": "stream",
     "text": [
      "/opt/conda/lib/python3.10/site-packages/seaborn/_oldcore.py:1119: FutureWarning: use_inf_as_na option is deprecated and will be removed in a future version. Convert inf values to NaN before operating instead.\n",
      "  with pd.option_context('mode.use_inf_as_na', True):\n",
      "/opt/conda/lib/python3.10/site-packages/seaborn/_oldcore.py:1075: FutureWarning: When grouping with a length-1 list-like, you will need to pass a length-1 tuple to get_group in a future version of pandas. Pass `(name,)` instead of `name` to silence this warning.\n",
      "  data_subset = grouped_data.get_group(pd_key)\n",
      "/opt/conda/lib/python3.10/site-packages/seaborn/_oldcore.py:1075: FutureWarning: When grouping with a length-1 list-like, you will need to pass a length-1 tuple to get_group in a future version of pandas. Pass `(name,)` instead of `name` to silence this warning.\n",
      "  data_subset = grouped_data.get_group(pd_key)\n",
      "/opt/conda/lib/python3.10/site-packages/seaborn/_oldcore.py:1075: FutureWarning: When grouping with a length-1 list-like, you will need to pass a length-1 tuple to get_group in a future version of pandas. Pass `(name,)` instead of `name` to silence this warning.\n",
      "  data_subset = grouped_data.get_group(pd_key)\n"
     ]
    },
    {
     "data": {
      "image/png": "[encoded data removed]",
      "text/plain": [
       "<Figure size 1000x600 with 1 Axes>"
      ]
     },
     "metadata": {},
     "output_type": "display_data"
    }
   ],
   "source": [
    "plt.figure(figsize=(10, 6))\n",
    "sns.histplot(data=df, x='AgeGroup', hue='Survived', multiple='stack', shrink=0.8)\n",
    "\n",
    "plt.title('Survival Rate by Age Group')\n",
    "plt.xlabel('Age Group')\n",
    "plt.ylabel('Count')\n",
    "plt.show()"
   ]
  },
  {
   "cell_type": "markdown",
   "id": "6dc085c6",
   "metadata": {
    "papermill": {
     "duration": 0.023132,
     "end_time": "2024-08-31T20:39:20.956523",
     "exception": false,
     "start_time": "2024-08-31T20:39:20.933391",
     "status": "completed"
    },
    "tags": []
   },
   "source": [
    "> # Survival Rate By Fare Grup"
   ]
  },
  {
   "cell_type": "code",
   "execution_count": 21,
   "id": "4fc9a2f2",
   "metadata": {
    "execution": {
     "iopub.execute_input": "2024-08-31T20:39:21.004613Z",
     "iopub.status.busy": "2024-08-31T20:39:21.004156Z",
     "iopub.status.idle": "2024-08-31T20:39:21.014707Z",
     "shell.execute_reply": "2024-08-31T20:39:21.013785Z"
    },
    "papermill": {
     "duration": 0.037685,
     "end_time": "2024-08-31T20:39:21.017268",
     "exception": false,
     "start_time": "2024-08-31T20:39:20.979583",
     "status": "completed"
    },
    "tags": []
   },
   "outputs": [],
   "source": [
    "df['Fare_Category'] = pd.cut(df['Fare'], bins=[0, 7.91, 14.454, 31, df['Fare'].max()], \n",
    "labels=['Low', 'Medium', 'High', 'Very High'])\n",
    "df['fareGroup'] = pd.cut(df['Fare'], bins=bins, labels=labels)"
   ]
  },
  {
   "cell_type": "code",
   "execution_count": 22,
   "id": "fd201675",
   "metadata": {
    "execution": {
     "iopub.execute_input": "2024-08-31T20:39:21.066103Z",
     "iopub.status.busy": "2024-08-31T20:39:21.065666Z",
     "iopub.status.idle": "2024-08-31T20:39:21.383894Z",
     "shell.execute_reply": "2024-08-31T20:39:21.382747Z"
    },
    "papermill": {
     "duration": 0.345391,
     "end_time": "2024-08-31T20:39:21.386280",
     "exception": false,
     "start_time": "2024-08-31T20:39:21.040889",
     "status": "completed"
    },
    "tags": []
   },
   "outputs": [
    {
     "name": "stderr",
     "output_type": "stream",
     "text": [
      "/opt/conda/lib/python3.10/site-packages/seaborn/_oldcore.py:1119: FutureWarning: use_inf_as_na option is deprecated and will be removed in a future version. Convert inf values to NaN before operating instead.\n",
      "  with pd.option_context('mode.use_inf_as_na', True):\n",
      "/opt/conda/lib/python3.10/site-packages/seaborn/_oldcore.py:1075: FutureWarning: When grouping with a length-1 list-like, you will need to pass a length-1 tuple to get_group in a future version of pandas. Pass `(name,)` instead of `name` to silence this warning.\n",
      "  data_subset = grouped_data.get_group(pd_key)\n",
      "/opt/conda/lib/python3.10/site-packages/seaborn/_oldcore.py:1075: FutureWarning: When grouping with a length-1 list-like, you will need to pass a length-1 tuple to get_group in a future version of pandas. Pass `(name,)` instead of `name` to silence this warning.\n",
      "  data_subset = grouped_data.get_group(pd_key)\n",
      "/opt/conda/lib/python3.10/site-packages/seaborn/_oldcore.py:1075: FutureWarning: When grouping with a length-1 list-like, you will need to pass a length-1 tuple to get_group in a future version of pandas. Pass `(name,)` instead of `name` to silence this warning.\n",
      "  data_subset = grouped_data.get_group(pd_key)\n"
     ]
    },
    {
     "data": {
      "image/png": "[encoded data removed]",
      "text/plain": [
       "<Figure size 1000x600 with 1 Axes>"
      ]
     },
     "metadata": {},
     "output_type": "display_data"
    }
   ],
   "source": [
    "plt.figure(figsize=(10,6))\n",
    "sns.histplot(data=df, x='Fare_Category', hue='Survived', multiple='dodge', shrink=.8)\n",
    "plt.title('Survival Rate By Fare Group')\n",
    "plt.xlabel('Fare Category')\n",
    "plt.ylabel('Passenger Count')\n",
    "\n",
    "plt.show()"
   ]
  },
  {
   "cell_type": "markdown",
   "id": "6d3c4312",
   "metadata": {
    "papermill": {
     "duration": 0.025398,
     "end_time": "2024-08-31T20:39:21.435841",
     "exception": false,
     "start_time": "2024-08-31T20:39:21.410443",
     "status": "completed"
    },
    "tags": []
   },
   "source": [
    "> # Survival Rate By Family Grup"
   ]
  },
  {
   "cell_type": "code",
   "execution_count": 23,
   "id": "5dcdf5d7",
   "metadata": {
    "execution": {
     "iopub.execute_input": "2024-08-31T20:39:21.537690Z",
     "iopub.status.busy": "2024-08-31T20:39:21.537227Z",
     "iopub.status.idle": "2024-08-31T20:39:21.552763Z",
     "shell.execute_reply": "2024-08-31T20:39:21.551709Z"
    },
    "papermill": {
     "duration": 0.09511,
     "end_time": "2024-08-31T20:39:21.555290",
     "exception": false,
     "start_time": "2024-08-31T20:39:21.460180",
     "status": "completed"
    },
    "tags": []
   },
   "outputs": [
    {
     "name": "stdout",
     "output_type": "stream",
     "text": [
      "    Group  Survived\n",
      "0   Alone  0.303538\n",
      "1  Family  0.505650\n"
     ]
    }
   ],
   "source": [
    "df['Group'] = (df['SibSp'] == 0) & (df['Parch'] == 0)\n",
    "df['Group'] = df['Group'].apply(lambda x: 'Alone' if x else 'Family')\n",
    "survival_rate_by_group = df.groupby('Group')['Survived'].mean().reset_index()\n",
    "print(survival_rate_by_group)"
   ]
  },
  {
   "cell_type": "code",
   "execution_count": 24,
   "id": "7f0b61f9",
   "metadata": {
    "execution": {
     "iopub.execute_input": "2024-08-31T20:39:21.604867Z",
     "iopub.status.busy": "2024-08-31T20:39:21.604468Z",
     "iopub.status.idle": "2024-08-31T20:39:21.807646Z",
     "shell.execute_reply": "2024-08-31T20:39:21.806480Z"
    },
    "papermill": {
     "duration": 0.230978,
     "end_time": "2024-08-31T20:39:21.810112",
     "exception": false,
     "start_time": "2024-08-31T20:39:21.579134",
     "status": "completed"
    },
    "tags": []
   },
   "outputs": [
    {
     "data": {
      "image/png": "[encoded data removed]",
      "text/plain": [
       "<Figure size 1000x600 with 1 Axes>"
      ]
     },
     "metadata": {},
     "output_type": "display_data"
    }
   ],
   "source": [
    "plt.figure(figsize=(10, 6))\n",
    "sns.barplot(data=survival_rate_by_group, x='Group', y='Survived', palette='viridis')\n",
    "plt.title('Survival Rate by Family Group')\n",
    "plt.xlabel('Group')\n",
    "plt.ylabel('Average Survival Rate')\n",
    "plt.show()"
   ]
  },
  {
   "cell_type": "markdown",
   "id": "26f57ec1",
   "metadata": {
    "papermill": {
     "duration": 0.024251,
     "end_time": "2024-08-31T20:39:21.859133",
     "exception": false,
     "start_time": "2024-08-31T20:39:21.834882",
     "status": "completed"
    },
    "tags": []
   },
   "source": [
    "> # Survival Rate"
   ]
  },
  {
   "cell_type": "code",
   "execution_count": 25,
   "id": "d57b3675",
   "metadata": {
    "execution": {
     "iopub.execute_input": "2024-08-31T20:39:21.914609Z",
     "iopub.status.busy": "2024-08-31T20:39:21.913702Z",
     "iopub.status.idle": "2024-08-31T20:39:21.923330Z",
     "shell.execute_reply": "2024-08-31T20:39:21.922287Z"
    },
    "papermill": {
     "duration": 0.038029,
     "end_time": "2024-08-31T20:39:21.925839",
     "exception": false,
     "start_time": "2024-08-31T20:39:21.887810",
     "status": "completed"
    },
    "tags": []
   },
   "outputs": [
    {
     "name": "stdout",
     "output_type": "stream",
     "text": [
      "   Sex  Survived\n",
      "0    0  0.742038\n",
      "1    1  0.188908\n"
     ]
    }
   ],
   "source": [
    "survival_rate_by_sex = df.groupby('Sex')['Survived'].mean().reset_index()\n",
    "print(survival_rate_by_sex)"
   ]
  },
  {
   "cell_type": "code",
   "execution_count": 26,
   "id": "3a0ee7e6",
   "metadata": {
    "execution": {
     "iopub.execute_input": "2024-08-31T20:39:21.977106Z",
     "iopub.status.busy": "2024-08-31T20:39:21.976647Z",
     "iopub.status.idle": "2024-08-31T20:39:22.178094Z",
     "shell.execute_reply": "2024-08-31T20:39:22.176923Z"
    },
    "papermill": {
     "duration": 0.230178,
     "end_time": "2024-08-31T20:39:22.180775",
     "exception": false,
     "start_time": "2024-08-31T20:39:21.950597",
     "status": "completed"
    },
    "tags": []
   },
   "outputs": [
    {
     "data": {
      "image/png": "[encoded data removed]",
      "text/plain": [
       "<Figure size 800x600 with 1 Axes>"
      ]
     },
     "metadata": {},
     "output_type": "display_data"
    }
   ],
   "source": [
    "plt.figure(figsize=(8, 6))\n",
    "sns.barplot(data=survival_rate_by_sex, x='Sex', y='Survived', palette='coolwarm')\n",
    "plt.title('Survival Rate by Sex')\n",
    "plt.xlabel('Sex')\n",
    "plt.ylabel('Average Survival Rate')\n",
    "plt.ylim(0, 1)  \n",
    "plt.show()"
   ]
  },
  {
   "cell_type": "markdown",
   "id": "e7a591ab",
   "metadata": {
    "papermill": {
     "duration": 0.02489,
     "end_time": "2024-08-31T20:39:22.231293",
     "exception": false,
     "start_time": "2024-08-31T20:39:22.206403",
     "status": "completed"
    },
    "tags": []
   },
   "source": [
    "> # Proportion of Survival vs Non Survival"
   ]
  },
  {
   "cell_type": "code",
   "execution_count": 27,
   "id": "05672b61",
   "metadata": {
    "execution": {
     "iopub.execute_input": "2024-08-31T20:39:22.283373Z",
     "iopub.status.busy": "2024-08-31T20:39:22.282934Z",
     "iopub.status.idle": "2024-08-31T20:39:22.290475Z",
     "shell.execute_reply": "2024-08-31T20:39:22.289294Z"
    },
    "papermill": {
     "duration": 0.036232,
     "end_time": "2024-08-31T20:39:22.292786",
     "exception": false,
     "start_time": "2024-08-31T20:39:22.256554",
     "status": "completed"
    },
    "tags": []
   },
   "outputs": [],
   "source": [
    "survival_counts = df['Survived'].value_counts()"
   ]
  },
  {
   "cell_type": "code",
   "execution_count": 28,
   "id": "8cc35a4c",
   "metadata": {
    "execution": {
     "iopub.execute_input": "2024-08-31T20:39:22.345025Z",
     "iopub.status.busy": "2024-08-31T20:39:22.344518Z",
     "iopub.status.idle": "2024-08-31T20:39:22.492634Z",
     "shell.execute_reply": "2024-08-31T20:39:22.491144Z"
    },
    "papermill": {
     "duration": 0.179431,
     "end_time": "2024-08-31T20:39:22.497406",
     "exception": false,
     "start_time": "2024-08-31T20:39:22.317975",
     "status": "completed"
    },
    "tags": []
   },
   "outputs": [
    {
     "data": {
      "image/png": "[encoded data removed]",
      "text/plain": [
       "<Figure size 800x800 with 1 Axes>"
      ]
     },
     "metadata": {},
     "output_type": "display_data"
    }
   ],
   "source": [
    "plt.figure(figsize=(8, 8))\n",
    "plt.pie(survival_counts, labels=['Not Survived', 'Survived'], autopct='%1.1f%%', colors=['#ff9999','#66b3ff'])\n",
    "plt.title('Proportion of Survival vs. Non-Survival')\n",
    "plt.show()"
   ]
  },
  {
   "cell_type": "markdown",
   "id": "dbcd2398",
   "metadata": {
    "papermill": {
     "duration": 0.029387,
     "end_time": "2024-08-31T20:39:22.579572",
     "exception": false,
     "start_time": "2024-08-31T20:39:22.550185",
     "status": "completed"
    },
    "tags": []
   },
   "source": [
    "# **Modelling**"
   ]
  },
  {
   "cell_type": "markdown",
   "id": "842f5b04",
   "metadata": {
    "papermill": {
     "duration": 0.025326,
     "end_time": "2024-08-31T20:39:22.630495",
     "exception": false,
     "start_time": "2024-08-31T20:39:22.605169",
     "status": "completed"
    },
    "tags": []
   },
   "source": [
    "> # Decision Tree"
   ]
  },
  {
   "cell_type": "code",
   "execution_count": 29,
   "id": "e02b2695",
   "metadata": {
    "execution": {
     "iopub.execute_input": "2024-08-31T20:39:22.685142Z",
     "iopub.status.busy": "2024-08-31T20:39:22.684638Z",
     "iopub.status.idle": "2024-08-31T20:39:22.875469Z",
     "shell.execute_reply": "2024-08-31T20:39:22.874221Z"
    },
    "papermill": {
     "duration": 0.222495,
     "end_time": "2024-08-31T20:39:22.879420",
     "exception": false,
     "start_time": "2024-08-31T20:39:22.656925",
     "status": "completed"
    },
    "tags": []
   },
   "outputs": [],
   "source": [
    "from sklearn.tree import DecisionTreeClassifier\n",
    "from sklearn.metrics import accuracy_score, classification_report, confusion_matrix"
   ]
  },
  {
   "cell_type": "code",
   "execution_count": 30,
   "id": "e924590a",
   "metadata": {
    "execution": {
     "iopub.execute_input": "2024-08-31T20:39:22.934097Z",
     "iopub.status.busy": "2024-08-31T20:39:22.933615Z",
     "iopub.status.idle": "2024-08-31T20:39:22.951104Z",
     "shell.execute_reply": "2024-08-31T20:39:22.949837Z"
    },
    "papermill": {
     "duration": 0.047776,
     "end_time": "2024-08-31T20:39:22.953716",
     "exception": false,
     "start_time": "2024-08-31T20:39:22.905940",
     "status": "completed"
    },
    "tags": []
   },
   "outputs": [
    {
     "data": {
      "text/html": [
       "<style>#sk-container-id-1 {color: black;background-color: white;}#sk-container-id-1 pre{padding: 0;}#sk-container-id-1 div.sk-toggleable {background-color: white;}#sk-container-id-1 label.sk-toggleable__label {cursor: pointer;display: block;width: 100%;margin-bottom: 0;padding: 0.3em;box-sizing: border-box;text-align: center;}#sk-container-id-1 label.sk-toggleable__label-arrow:before {content: \"▸\";float: left;margin-right: 0.25em;color: #696969;}#sk-container-id-1 label.sk-toggleable__label-arrow:hover:before {color: black;}#sk-container-id-1 div.sk-estimator:hover label.sk-toggleable__label-arrow:before {color: black;}#sk-container-id-1 div.sk-toggleable__content {max-height: 0;max-width: 0;overflow: hidden;text-align: left;background-color: #f0f8ff;}#sk-container-id-1 div.sk-toggleable__content pre {margin: 0.2em;color: black;border-radius: 0.25em;background-color: #f0f8ff;}#sk-container-id-1 input.sk-toggleable__control:checked~div.sk-toggleable__content {max-height: 200px;max-width: 100%;overflow: auto;}#sk-container-id-1 input.sk-toggleable__control:checked~label.sk-toggleable__label-arrow:before {content: \"▾\";}#sk-container-id-1 div.sk-estimator input.sk-toggleable__control:checked~label.sk-toggleable__label {background-color: #d4ebff;}#sk-container-id-1 div.sk-label input.sk-toggleable__control:checked~label.sk-toggleable__label {background-color: #d4ebff;}#sk-container-id-1 input.sk-hidden--visually {border: 0;clip: rect(1px 1px 1px 1px);clip: rect(1px, 1px, 1px, 1px);height: 1px;margin: -1px;overflow: hidden;padding: 0;position: absolute;width: 1px;}#sk-container-id-1 div.sk-estimator {font-family: monospace;background-color: #f0f8ff;border: 1px dotted black;border-radius: 0.25em;box-sizing: border-box;margin-bottom: 0.5em;}#sk-container-id-1 div.sk-estimator:hover {background-color: #d4ebff;}#sk-container-id-1 div.sk-parallel-item::after {content: \"\";width: 100%;border-bottom: 1px solid gray;flex-grow: 1;}#sk-container-id-1 div.sk-label:hover label.sk-toggleable__label {background-color: #d4ebff;}#sk-container-id-1 div.sk-serial::before {content: \"\";position: absolute;border-left: 1px solid gray;box-sizing: border-box;top: 0;bottom: 0;left: 50%;z-index: 0;}#sk-container-id-1 div.sk-serial {display: flex;flex-direction: column;align-items: center;background-color: white;padding-right: 0.2em;padding-left: 0.2em;position: relative;}#sk-container-id-1 div.sk-item {position: relative;z-index: 1;}#sk-container-id-1 div.sk-parallel {display: flex;align-items: stretch;justify-content: center;background-color: white;position: relative;}#sk-container-id-1 div.sk-item::before, #sk-container-id-1 div.sk-parallel-item::before {content: \"\";position: absolute;border-left: 1px solid gray;box-sizing: border-box;top: 0;bottom: 0;left: 50%;z-index: -1;}#sk-container-id-1 div.sk-parallel-item {display: flex;flex-direction: column;z-index: 1;position: relative;background-color: white;}#sk-container-id-1 div.sk-parallel-item:first-child::after {align-self: flex-end;width: 50%;}#sk-container-id-1 div.sk-parallel-item:last-child::after {align-self: flex-start;width: 50%;}#sk-container-id-1 div.sk-parallel-item:only-child::after {width: 0;}#sk-container-id-1 div.sk-dashed-wrapped {border: 1px dashed gray;margin: 0 0.4em 0.5em 0.4em;box-sizing: border-box;padding-bottom: 0.4em;background-color: white;}#sk-container-id-1 div.sk-label label {font-family: monospace;font-weight: bold;display: inline-block;line-height: 1.2em;}#sk-container-id-1 div.sk-label-container {text-align: center;}#sk-container-id-1 div.sk-container {/* jupyter's `normalize.less` sets `[hidden] { display: none; }` but bootstrap.min.css set `[hidden] { display: none !important; }` so we also need the `!important` here to be able to override the default hidden behavior on the sphinx rendered scikit-learn.org. See: https://github.com/scikit-learn/scikit-learn/issues/21755 */display: inline-block !important;position: relative;}#sk-container-id-1 div.sk-text-repr-fallback {display: none;}</style><div id=\"sk-container-id-1\" class=\"sk-top-container\"><div class=\"sk-text-repr-fallback\"><pre>DecisionTreeClassifier()</pre><b>In a Jupyter environment, please rerun this cell to show the HTML representation or trust the notebook. <br />On GitHub, the HTML representation is unable to render, please try loading this page with nbviewer.org.</b></div><div class=\"sk-container\" hidden><div class=\"sk-item\"><div class=\"sk-estimator sk-toggleable\"><input class=\"sk-toggleable__control sk-hidden--visually\" id=\"sk-estimator-id-1\" type=\"checkbox\" checked><label for=\"sk-estimator-id-1\" class=\"sk-toggleable__label sk-toggleable__label-arrow\">DecisionTreeClassifier</label><div class=\"sk-toggleable__content\"><pre>DecisionTreeClassifier()</pre></div></div></div></div></div>"
      ],
      "text/plain": [
       "DecisionTreeClassifier()"
      ]
     },
     "execution_count": 30,
     "metadata": {},
     "output_type": "execute_result"
    }
   ],
   "source": [
    "dt_model = DecisionTreeClassifier()\n",
    "dt_model.fit(x_train, y_train)"
   ]
  },
  {
   "cell_type": "code",
   "execution_count": 31,
   "id": "2753a8cb",
   "metadata": {
    "execution": {
     "iopub.execute_input": "2024-08-31T20:39:23.007876Z",
     "iopub.status.busy": "2024-08-31T20:39:23.007434Z",
     "iopub.status.idle": "2024-08-31T20:39:23.017637Z",
     "shell.execute_reply": "2024-08-31T20:39:23.016343Z"
    },
    "papermill": {
     "duration": 0.040343,
     "end_time": "2024-08-31T20:39:23.020262",
     "exception": false,
     "start_time": "2024-08-31T20:39:22.979919",
     "status": "completed"
    },
    "tags": []
   },
   "outputs": [],
   "source": [
    "dt_y_pred = dt_model.predict(x_test)\n",
    "dt_accuracy = accuracy_score(y_test, dt_y_pred)"
   ]
  },
  {
   "cell_type": "code",
   "execution_count": 32,
   "id": "8bd785cd",
   "metadata": {
    "execution": {
     "iopub.execute_input": "2024-08-31T20:39:23.074133Z",
     "iopub.status.busy": "2024-08-31T20:39:23.073384Z",
     "iopub.status.idle": "2024-08-31T20:39:23.088518Z",
     "shell.execute_reply": "2024-08-31T20:39:23.087478Z"
    },
    "papermill": {
     "duration": 0.044952,
     "end_time": "2024-08-31T20:39:23.091149",
     "exception": false,
     "start_time": "2024-08-31T20:39:23.046197",
     "status": "completed"
    },
    "tags": []
   },
   "outputs": [
    {
     "name": "stdout",
     "output_type": "stream",
     "text": [
      "Decision Tree Classification Report:\n",
      "               precision    recall  f1-score   support\n",
      "\n",
      "           0       0.83      0.81      0.82       105\n",
      "           1       0.74      0.77      0.75        74\n",
      "\n",
      "    accuracy                           0.79       179\n",
      "   macro avg       0.79      0.79      0.79       179\n",
      "weighted avg       0.79      0.79      0.79       179\n",
      "\n"
     ]
    }
   ],
   "source": [
    "print(\"Decision Tree Classification Report:\\n\", classification_report(y_test, dt_y_pred))"
   ]
  },
  {
   "cell_type": "code",
   "execution_count": 33,
   "id": "5941681a",
   "metadata": {
    "execution": {
     "iopub.execute_input": "2024-08-31T20:39:23.146206Z",
     "iopub.status.busy": "2024-08-31T20:39:23.145298Z",
     "iopub.status.idle": "2024-08-31T20:39:23.488917Z",
     "shell.execute_reply": "2024-08-31T20:39:23.487559Z"
    },
    "papermill": {
     "duration": 0.374189,
     "end_time": "2024-08-31T20:39:23.491749",
     "exception": false,
     "start_time": "2024-08-31T20:39:23.117560",
     "status": "completed"
    },
    "tags": []
   },
   "outputs": [
    {
     "data": {
      "image/png": "[encoded data removed]",
      "text/plain": [
       "<Figure size 1000x700 with 2 Axes>"
      ]
     },
     "metadata": {},
     "output_type": "display_data"
    }
   ],
   "source": [
    "dt_cm = confusion_matrix(y_test, dt_y_pred)\n",
    "plt.figure(figsize=(10, 7))\n",
    "sns.heatmap(dt_cm, annot=True, fmt='d', cmap='Blues', xticklabels=['Not Survived', 'Survived'], yticklabels=['Not Survived', 'Survived'])\n",
    "plt.title('Confusion Matrix for Decision Tree')\n",
    "plt.xlabel('Predicted')\n",
    "plt.ylabel('Actual')\n",
    "plt.show()\n"
   ]
  },
  {
   "cell_type": "code",
   "execution_count": 34,
   "id": "26558f6c",
   "metadata": {
    "execution": {
     "iopub.execute_input": "2024-08-31T20:39:23.548281Z",
     "iopub.status.busy": "2024-08-31T20:39:23.547326Z",
     "iopub.status.idle": "2024-08-31T20:39:23.553157Z",
     "shell.execute_reply": "2024-08-31T20:39:23.552088Z"
    },
    "papermill": {
     "duration": 0.037776,
     "end_time": "2024-08-31T20:39:23.556491",
     "exception": false,
     "start_time": "2024-08-31T20:39:23.518715",
     "status": "completed"
    },
    "tags": []
   },
   "outputs": [
    {
     "name": "stdout",
     "output_type": "stream",
     "text": [
      "Decision Tree Accuracy: 0.79\n"
     ]
    }
   ],
   "source": [
    "print(f\"Decision Tree Accuracy: {dt_accuracy:.2f}\")"
   ]
  },
  {
   "cell_type": "markdown",
   "id": "573250e0",
   "metadata": {
    "papermill": {
     "duration": 0.026308,
     "end_time": "2024-08-31T20:39:23.609599",
     "exception": false,
     "start_time": "2024-08-31T20:39:23.583291",
     "status": "completed"
    },
    "tags": []
   },
   "source": [
    "> # Logistic Regression"
   ]
  },
  {
   "cell_type": "code",
   "execution_count": 35,
   "id": "1425f4c1",
   "metadata": {
    "execution": {
     "iopub.execute_input": "2024-08-31T20:39:23.665183Z",
     "iopub.status.busy": "2024-08-31T20:39:23.664741Z",
     "iopub.status.idle": "2024-08-31T20:39:23.670311Z",
     "shell.execute_reply": "2024-08-31T20:39:23.669088Z"
    },
    "papermill": {
     "duration": 0.036772,
     "end_time": "2024-08-31T20:39:23.672947",
     "exception": false,
     "start_time": "2024-08-31T20:39:23.636175",
     "status": "completed"
    },
    "tags": []
   },
   "outputs": [],
   "source": [
    "from sklearn.linear_model import LogisticRegression\n",
    "from sklearn.metrics import accuracy_score, classification_report, confusion_matrix"
   ]
  },
  {
   "cell_type": "code",
   "execution_count": 36,
   "id": "dc8214e9",
   "metadata": {
    "execution": {
     "iopub.execute_input": "2024-08-31T20:39:23.729256Z",
     "iopub.status.busy": "2024-08-31T20:39:23.728353Z",
     "iopub.status.idle": "2024-08-31T20:39:23.769133Z",
     "shell.execute_reply": "2024-08-31T20:39:23.767919Z"
    },
    "papermill": {
     "duration": 0.0722,
     "end_time": "2024-08-31T20:39:23.771946",
     "exception": false,
     "start_time": "2024-08-31T20:39:23.699746",
     "status": "completed"
    },
    "tags": []
   },
   "outputs": [
    {
     "data": {
      "text/html": [
       "<style>#sk-container-id-2 {color: black;background-color: white;}#sk-container-id-2 pre{padding: 0;}#sk-container-id-2 div.sk-toggleable {background-color: white;}#sk-container-id-2 label.sk-toggleable__label {cursor: pointer;display: block;width: 100%;margin-bottom: 0;padding: 0.3em;box-sizing: border-box;text-align: center;}#sk-container-id-2 label.sk-toggleable__label-arrow:before {content: \"▸\";float: left;margin-right: 0.25em;color: #696969;}#sk-container-id-2 label.sk-toggleable__label-arrow:hover:before {color: black;}#sk-container-id-2 div.sk-estimator:hover label.sk-toggleable__label-arrow:before {color: black;}#sk-container-id-2 div.sk-toggleable__content {max-height: 0;max-width: 0;overflow: hidden;text-align: left;background-color: #f0f8ff;}#sk-container-id-2 div.sk-toggleable__content pre {margin: 0.2em;color: black;border-radius: 0.25em;background-color: #f0f8ff;}#sk-container-id-2 input.sk-toggleable__control:checked~div.sk-toggleable__content {max-height: 200px;max-width: 100%;overflow: auto;}#sk-container-id-2 input.sk-toggleable__control:checked~label.sk-toggleable__label-arrow:before {content: \"▾\";}#sk-container-id-2 div.sk-estimator input.sk-toggleable__control:checked~label.sk-toggleable__label {background-color: #d4ebff;}#sk-container-id-2 div.sk-label input.sk-toggleable__control:checked~label.sk-toggleable__label {background-color: #d4ebff;}#sk-container-id-2 input.sk-hidden--visually {border: 0;clip: rect(1px 1px 1px 1px);clip: rect(1px, 1px, 1px, 1px);height: 1px;margin: -1px;overflow: hidden;padding: 0;position: absolute;width: 1px;}#sk-container-id-2 div.sk-estimator {font-family: monospace;background-color: #f0f8ff;border: 1px dotted black;border-radius: 0.25em;box-sizing: border-box;margin-bottom: 0.5em;}#sk-container-id-2 div.sk-estimator:hover {background-color: #d4ebff;}#sk-container-id-2 div.sk-parallel-item::after {content: \"\";width: 100%;border-bottom: 1px solid gray;flex-grow: 1;}#sk-container-id-2 div.sk-label:hover label.sk-toggleable__label {background-color: #d4ebff;}#sk-container-id-2 div.sk-serial::before {content: \"\";position: absolute;border-left: 1px solid gray;box-sizing: border-box;top: 0;bottom: 0;left: 50%;z-index: 0;}#sk-container-id-2 div.sk-serial {display: flex;flex-direction: column;align-items: center;background-color: white;padding-right: 0.2em;padding-left: 0.2em;position: relative;}#sk-container-id-2 div.sk-item {position: relative;z-index: 1;}#sk-container-id-2 div.sk-parallel {display: flex;align-items: stretch;justify-content: center;background-color: white;position: relative;}#sk-container-id-2 div.sk-item::before, #sk-container-id-2 div.sk-parallel-item::before {content: \"\";position: absolute;border-left: 1px solid gray;box-sizing: border-box;top: 0;bottom: 0;left: 50%;z-index: -1;}#sk-container-id-2 div.sk-parallel-item {display: flex;flex-direction: column;z-index: 1;position: relative;background-color: white;}#sk-container-id-2 div.sk-parallel-item:first-child::after {align-self: flex-end;width: 50%;}#sk-container-id-2 div.sk-parallel-item:last-child::after {align-self: flex-start;width: 50%;}#sk-container-id-2 div.sk-parallel-item:only-child::after {width: 0;}#sk-container-id-2 div.sk-dashed-wrapped {border: 1px dashed gray;margin: 0 0.4em 0.5em 0.4em;box-sizing: border-box;padding-bottom: 0.4em;background-color: white;}#sk-container-id-2 div.sk-label label {font-family: monospace;font-weight: bold;display: inline-block;line-height: 1.2em;}#sk-container-id-2 div.sk-label-container {text-align: center;}#sk-container-id-2 div.sk-container {/* jupyter's `normalize.less` sets `[hidden] { display: none; }` but bootstrap.min.css set `[hidden] { display: none !important; }` so we also need the `!important` here to be able to override the default hidden behavior on the sphinx rendered scikit-learn.org. See: https://github.com/scikit-learn/scikit-learn/issues/21755 */display: inline-block !important;position: relative;}#sk-container-id-2 div.sk-text-repr-fallback {display: none;}</style><div id=\"sk-container-id-2\" class=\"sk-top-container\"><div class=\"sk-text-repr-fallback\"><pre>LogisticRegression(max_iter=1000)</pre><b>In a Jupyter environment, please rerun this cell to show the HTML representation or trust the notebook. <br />On GitHub, the HTML representation is unable to render, please try loading this page with nbviewer.org.</b></div><div class=\"sk-container\" hidden><div class=\"sk-item\"><div class=\"sk-estimator sk-toggleable\"><input class=\"sk-toggleable__control sk-hidden--visually\" id=\"sk-estimator-id-2\" type=\"checkbox\" checked><label for=\"sk-estimator-id-2\" class=\"sk-toggleable__label sk-toggleable__label-arrow\">LogisticRegression</label><div class=\"sk-toggleable__content\"><pre>LogisticRegression(max_iter=1000)</pre></div></div></div></div></div>"
      ],
      "text/plain": [
       "LogisticRegression(max_iter=1000)"
      ]
     },
     "execution_count": 36,
     "metadata": {},
     "output_type": "execute_result"
    }
   ],
   "source": [
    "lr_model = LogisticRegression(max_iter=1000)\n",
    "lr_model.fit(x_train, y_train)"
   ]
  },
  {
   "cell_type": "code",
   "execution_count": 37,
   "id": "a9b7cdba",
   "metadata": {
    "execution": {
     "iopub.execute_input": "2024-08-31T20:39:23.829296Z",
     "iopub.status.busy": "2024-08-31T20:39:23.828023Z",
     "iopub.status.idle": "2024-08-31T20:39:23.837397Z",
     "shell.execute_reply": "2024-08-31T20:39:23.836226Z"
    },
    "papermill": {
     "duration": 0.040904,
     "end_time": "2024-08-31T20:39:23.840176",
     "exception": false,
     "start_time": "2024-08-31T20:39:23.799272",
     "status": "completed"
    },
    "tags": []
   },
   "outputs": [],
   "source": [
    "lr_y_pred = lr_model.predict(x_test)\n",
    "lr_accuracy = accuracy_score(y_test, lr_y_pred)"
   ]
  },
  {
   "cell_type": "code",
   "execution_count": 38,
   "id": "8b9ed188",
   "metadata": {
    "execution": {
     "iopub.execute_input": "2024-08-31T20:39:23.898550Z",
     "iopub.status.busy": "2024-08-31T20:39:23.897777Z",
     "iopub.status.idle": "2024-08-31T20:39:23.913741Z",
     "shell.execute_reply": "2024-08-31T20:39:23.912568Z"
    },
    "papermill": {
     "duration": 0.049215,
     "end_time": "2024-08-31T20:39:23.916433",
     "exception": false,
     "start_time": "2024-08-31T20:39:23.867218",
     "status": "completed"
    },
    "tags": []
   },
   "outputs": [
    {
     "name": "stdout",
     "output_type": "stream",
     "text": [
      "Logistic Regression Classification Report:\n",
      "               precision    recall  f1-score   support\n",
      "\n",
      "           0       0.83      0.86      0.84       105\n",
      "           1       0.79      0.74      0.76        74\n",
      "\n",
      "    accuracy                           0.81       179\n",
      "   macro avg       0.81      0.80      0.80       179\n",
      "weighted avg       0.81      0.81      0.81       179\n",
      "\n"
     ]
    }
   ],
   "source": [
    "print(\"Logistic Regression Classification Report:\\n\", classification_report(y_test, lr_y_pred))"
   ]
  },
  {
   "cell_type": "code",
   "execution_count": 39,
   "id": "53364f28",
   "metadata": {
    "execution": {
     "iopub.execute_input": "2024-08-31T20:39:23.972597Z",
     "iopub.status.busy": "2024-08-31T20:39:23.972141Z",
     "iopub.status.idle": "2024-08-31T20:39:24.252695Z",
     "shell.execute_reply": "2024-08-31T20:39:24.251537Z"
    },
    "papermill": {
     "duration": 0.311631,
     "end_time": "2024-08-31T20:39:24.255222",
     "exception": false,
     "start_time": "2024-08-31T20:39:23.943591",
     "status": "completed"
    },
    "tags": []
   },
   "outputs": [
    {
     "data": {
      "image/png": "[encoded data removed]",
      "text/plain": [
       "<Figure size 1000x700 with 2 Axes>"
      ]
     },
     "metadata": {},
     "output_type": "display_data"
    }
   ],
   "source": [
    "lr_cm = confusion_matrix(y_test, lr_y_pred)\n",
    "plt.figure(figsize=(10, 7))\n",
    "sns.heatmap(lr_cm, annot=True, fmt='d', cmap='Blues', xticklabels=['Not Survived', 'Survived'], yticklabels=['Not Survived', 'Survived'])\n",
    "plt.title('Confusion Matrix for Logistic Regression')\n",
    "plt.xlabel('Predicted')\n",
    "plt.ylabel('Actual')\n",
    "plt.show()"
   ]
  },
  {
   "cell_type": "code",
   "execution_count": 40,
   "id": "75364ca2",
   "metadata": {
    "execution": {
     "iopub.execute_input": "2024-08-31T20:39:24.312482Z",
     "iopub.status.busy": "2024-08-31T20:39:24.311704Z",
     "iopub.status.idle": "2024-08-31T20:39:24.317575Z",
     "shell.execute_reply": "2024-08-31T20:39:24.316492Z"
    },
    "papermill": {
     "duration": 0.037492,
     "end_time": "2024-08-31T20:39:24.320431",
     "exception": false,
     "start_time": "2024-08-31T20:39:24.282939",
     "status": "completed"
    },
    "tags": []
   },
   "outputs": [
    {
     "name": "stdout",
     "output_type": "stream",
     "text": [
      "Logistic Regression Accuracy: 0.81\n"
     ]
    }
   ],
   "source": [
    "print(f\"Logistic Regression Accuracy: {lr_accuracy:.2f}\")"
   ]
  },
  {
   "cell_type": "markdown",
   "id": "8594d38a",
   "metadata": {
    "papermill": {
     "duration": 0.027355,
     "end_time": "2024-08-31T20:39:24.375477",
     "exception": false,
     "start_time": "2024-08-31T20:39:24.348122",
     "status": "completed"
    },
    "tags": []
   },
   "source": [
    "> # Random Forest"
   ]
  },
  {
   "cell_type": "code",
   "execution_count": 41,
   "id": "ca24a070",
   "metadata": {
    "execution": {
     "iopub.execute_input": "2024-08-31T20:39:24.433497Z",
     "iopub.status.busy": "2024-08-31T20:39:24.433024Z",
     "iopub.status.idle": "2024-08-31T20:39:24.504581Z",
     "shell.execute_reply": "2024-08-31T20:39:24.503503Z"
    },
    "papermill": {
     "duration": 0.10404,
     "end_time": "2024-08-31T20:39:24.507397",
     "exception": false,
     "start_time": "2024-08-31T20:39:24.403357",
     "status": "completed"
    },
    "tags": []
   },
   "outputs": [],
   "source": [
    "from sklearn.ensemble import RandomForestClassifier\n",
    "from sklearn.metrics import confusion_matrix, classification_report, ConfusionMatrixDisplay"
   ]
  },
  {
   "cell_type": "code",
   "execution_count": 42,
   "id": "66280fa8",
   "metadata": {
    "execution": {
     "iopub.execute_input": "2024-08-31T20:39:24.565259Z",
     "iopub.status.busy": "2024-08-31T20:39:24.564795Z",
     "iopub.status.idle": "2024-08-31T20:39:24.850745Z",
     "shell.execute_reply": "2024-08-31T20:39:24.849486Z"
    },
    "papermill": {
     "duration": 0.318285,
     "end_time": "2024-08-31T20:39:24.853805",
     "exception": false,
     "start_time": "2024-08-31T20:39:24.535520",
     "status": "completed"
    },
    "tags": []
   },
   "outputs": [
    {
     "data": {
      "text/html": [
       "<style>#sk-container-id-3 {color: black;background-color: white;}#sk-container-id-3 pre{padding: 0;}#sk-container-id-3 div.sk-toggleable {background-color: white;}#sk-container-id-3 label.sk-toggleable__label {cursor: pointer;display: block;width: 100%;margin-bottom: 0;padding: 0.3em;box-sizing: border-box;text-align: center;}#sk-container-id-3 label.sk-toggleable__label-arrow:before {content: \"▸\";float: left;margin-right: 0.25em;color: #696969;}#sk-container-id-3 label.sk-toggleable__label-arrow:hover:before {color: black;}#sk-container-id-3 div.sk-estimator:hover label.sk-toggleable__label-arrow:before {color: black;}#sk-container-id-3 div.sk-toggleable__content {max-height: 0;max-width: 0;overflow: hidden;text-align: left;background-color: #f0f8ff;}#sk-container-id-3 div.sk-toggleable__content pre {margin: 0.2em;color: black;border-radius: 0.25em;background-color: #f0f8ff;}#sk-container-id-3 input.sk-toggleable__control:checked~div.sk-toggleable__content {max-height: 200px;max-width: 100%;overflow: auto;}#sk-container-id-3 input.sk-toggleable__control:checked~label.sk-toggleable__label-arrow:before {content: \"▾\";}#sk-container-id-3 div.sk-estimator input.sk-toggleable__control:checked~label.sk-toggleable__label {background-color: #d4ebff;}#sk-container-id-3 div.sk-label input.sk-toggleable__control:checked~label.sk-toggleable__label {background-color: #d4ebff;}#sk-container-id-3 input.sk-hidden--visually {border: 0;clip: rect(1px 1px 1px 1px);clip: rect(1px, 1px, 1px, 1px);height: 1px;margin: -1px;overflow: hidden;padding: 0;position: absolute;width: 1px;}#sk-container-id-3 div.sk-estimator {font-family: monospace;background-color: #f0f8ff;border: 1px dotted black;border-radius: 0.25em;box-sizing: border-box;margin-bottom: 0.5em;}#sk-container-id-3 div.sk-estimator:hover {background-color: #d4ebff;}#sk-container-id-3 div.sk-parallel-item::after {content: \"\";width: 100%;border-bottom: 1px solid gray;flex-grow: 1;}#sk-container-id-3 div.sk-label:hover label.sk-toggleable__label {background-color: #d4ebff;}#sk-container-id-3 div.sk-serial::before {content: \"\";position: absolute;border-left: 1px solid gray;box-sizing: border-box;top: 0;bottom: 0;left: 50%;z-index: 0;}#sk-container-id-3 div.sk-serial {display: flex;flex-direction: column;align-items: center;background-color: white;padding-right: 0.2em;padding-left: 0.2em;position: relative;}#sk-container-id-3 div.sk-item {position: relative;z-index: 1;}#sk-container-id-3 div.sk-parallel {display: flex;align-items: stretch;justify-content: center;background-color: white;position: relative;}#sk-container-id-3 div.sk-item::before, #sk-container-id-3 div.sk-parallel-item::before {content: \"\";position: absolute;border-left: 1px solid gray;box-sizing: border-box;top: 0;bottom: 0;left: 50%;z-index: -1;}#sk-container-id-3 div.sk-parallel-item {display: flex;flex-direction: column;z-index: 1;position: relative;background-color: white;}#sk-container-id-3 div.sk-parallel-item:first-child::after {align-self: flex-end;width: 50%;}#sk-container-id-3 div.sk-parallel-item:last-child::after {align-self: flex-start;width: 50%;}#sk-container-id-3 div.sk-parallel-item:only-child::after {width: 0;}#sk-container-id-3 div.sk-dashed-wrapped {border: 1px dashed gray;margin: 0 0.4em 0.5em 0.4em;box-sizing: border-box;padding-bottom: 0.4em;background-color: white;}#sk-container-id-3 div.sk-label label {font-family: monospace;font-weight: bold;display: inline-block;line-height: 1.2em;}#sk-container-id-3 div.sk-label-container {text-align: center;}#sk-container-id-3 div.sk-container {/* jupyter's `normalize.less` sets `[hidden] { display: none; }` but bootstrap.min.css set `[hidden] { display: none !important; }` so we also need the `!important` here to be able to override the default hidden behavior on the sphinx rendered scikit-learn.org. See: https://github.com/scikit-learn/scikit-learn/issues/21755 */display: inline-block !important;position: relative;}#sk-container-id-3 div.sk-text-repr-fallback {display: none;}</style><div id=\"sk-container-id-3\" class=\"sk-top-container\"><div class=\"sk-text-repr-fallback\"><pre>RandomForestClassifier(random_state=42)</pre><b>In a Jupyter environment, please rerun this cell to show the HTML representation or trust the notebook. <br />On GitHub, the HTML representation is unable to render, please try loading this page with nbviewer.org.</b></div><div class=\"sk-container\" hidden><div class=\"sk-item\"><div class=\"sk-estimator sk-toggleable\"><input class=\"sk-toggleable__control sk-hidden--visually\" id=\"sk-estimator-id-3\" type=\"checkbox\" checked><label for=\"sk-estimator-id-3\" class=\"sk-toggleable__label sk-toggleable__label-arrow\">RandomForestClassifier</label><div class=\"sk-toggleable__content\"><pre>RandomForestClassifier(random_state=42)</pre></div></div></div></div></div>"
      ],
      "text/plain": [
       "RandomForestClassifier(random_state=42)"
      ]
     },
     "execution_count": 42,
     "metadata": {},
     "output_type": "execute_result"
    }
   ],
   "source": [
    "rf_model = RandomForestClassifier(random_state=42)\n",
    "rf_model.fit(x_train, y_train)"
   ]
  },
  {
   "cell_type": "code",
   "execution_count": 43,
   "id": "a5344fa7",
   "metadata": {
    "execution": {
     "iopub.execute_input": "2024-08-31T20:39:24.913673Z",
     "iopub.status.busy": "2024-08-31T20:39:24.913210Z",
     "iopub.status.idle": "2024-08-31T20:39:24.931682Z",
     "shell.execute_reply": "2024-08-31T20:39:24.930718Z"
    },
    "papermill": {
     "duration": 0.0523,
     "end_time": "2024-08-31T20:39:24.934555",
     "exception": false,
     "start_time": "2024-08-31T20:39:24.882255",
     "status": "completed"
    },
    "tags": []
   },
   "outputs": [],
   "source": [
    "y_pred = rf_model.predict(x_test)"
   ]
  },
  {
   "cell_type": "code",
   "execution_count": 44,
   "id": "1a2d8e80",
   "metadata": {
    "execution": {
     "iopub.execute_input": "2024-08-31T20:39:24.992964Z",
     "iopub.status.busy": "2024-08-31T20:39:24.992529Z",
     "iopub.status.idle": "2024-08-31T20:39:25.001470Z",
     "shell.execute_reply": "2024-08-31T20:39:25.000013Z"
    },
    "papermill": {
     "duration": 0.04101,
     "end_time": "2024-08-31T20:39:25.004018",
     "exception": false,
     "start_time": "2024-08-31T20:39:24.963008",
     "status": "completed"
    },
    "tags": []
   },
   "outputs": [
    {
     "name": "stdout",
     "output_type": "stream",
     "text": [
      "Confusion Matrix:\n",
      "[[92 13]\n",
      " [19 55]]\n"
     ]
    }
   ],
   "source": [
    "cm = confusion_matrix(y_test, y_pred)\n",
    "print(\"Confusion Matrix:\")\n",
    "print(cm)"
   ]
  },
  {
   "cell_type": "code",
   "execution_count": 45,
   "id": "33ddb945",
   "metadata": {
    "execution": {
     "iopub.execute_input": "2024-08-31T20:39:25.063491Z",
     "iopub.status.busy": "2024-08-31T20:39:25.063000Z",
     "iopub.status.idle": "2024-08-31T20:39:25.321469Z",
     "shell.execute_reply": "2024-08-31T20:39:25.320295Z"
    },
    "papermill": {
     "duration": 0.291278,
     "end_time": "2024-08-31T20:39:25.324056",
     "exception": false,
     "start_time": "2024-08-31T20:39:25.032778",
     "status": "completed"
    },
    "tags": []
   },
   "outputs": [
    {
     "data": {
      "image/png": "[encoded data removed]",
      "text/plain": [
       "<Figure size 640x480 with 2 Axes>"
      ]
     },
     "metadata": {},
     "output_type": "display_data"
    }
   ],
   "source": [
    "disp = ConfusionMatrixDisplay(confusion_matrix=cm, display_labels=['Not Survived', 'Survived'])\n",
    "disp.plot(cmap=plt.cm.Blues)\n",
    "plt.title('Confusion Matrix for Random Forest')\n",
    "plt.show()"
   ]
  },
  {
   "cell_type": "code",
   "execution_count": 46,
   "id": "868be2e6",
   "metadata": {
    "execution": {
     "iopub.execute_input": "2024-08-31T20:39:25.384218Z",
     "iopub.status.busy": "2024-08-31T20:39:25.383737Z",
     "iopub.status.idle": "2024-08-31T20:39:25.400027Z",
     "shell.execute_reply": "2024-08-31T20:39:25.398603Z"
    },
    "papermill": {
     "duration": 0.049913,
     "end_time": "2024-08-31T20:39:25.402879",
     "exception": false,
     "start_time": "2024-08-31T20:39:25.352966",
     "status": "completed"
    },
    "tags": []
   },
   "outputs": [
    {
     "name": "stdout",
     "output_type": "stream",
     "text": [
      "Classification Report:\n",
      "              precision    recall  f1-score   support\n",
      "\n",
      "           0       0.83      0.88      0.85       105\n",
      "           1       0.81      0.74      0.77        74\n",
      "\n",
      "    accuracy                           0.82       179\n",
      "   macro avg       0.82      0.81      0.81       179\n",
      "weighted avg       0.82      0.82      0.82       179\n",
      "\n"
     ]
    }
   ],
   "source": [
    "print(\"Classification Report:\")\n",
    "print(classification_report(y_test, y_pred))"
   ]
  },
  {
   "cell_type": "markdown",
   "id": "1c869d6a",
   "metadata": {
    "papermill": {
     "duration": 0.028612,
     "end_time": "2024-08-31T20:39:25.460878",
     "exception": false,
     "start_time": "2024-08-31T20:39:25.432266",
     "status": "completed"
    },
    "tags": []
   },
   "source": [
    "# **Evaluation**"
   ]
  },
  {
   "cell_type": "code",
   "execution_count": 47,
   "id": "afd48147",
   "metadata": {
    "execution": {
     "iopub.execute_input": "2024-08-31T20:39:25.520342Z",
     "iopub.status.busy": "2024-08-31T20:39:25.519865Z",
     "iopub.status.idle": "2024-08-31T20:39:25.525164Z",
     "shell.execute_reply": "2024-08-31T20:39:25.524092Z"
    },
    "papermill": {
     "duration": 0.038092,
     "end_time": "2024-08-31T20:39:25.527709",
     "exception": false,
     "start_time": "2024-08-31T20:39:25.489617",
     "status": "completed"
    },
    "tags": []
   },
   "outputs": [],
   "source": [
    "from sklearn.metrics import roc_curve, auc\n",
    "import matplotlib.pyplot as plt"
   ]
  },
  {
   "cell_type": "code",
   "execution_count": 48,
   "id": "d883bdc8",
   "metadata": {
    "execution": {
     "iopub.execute_input": "2024-08-31T20:39:25.587341Z",
     "iopub.status.busy": "2024-08-31T20:39:25.586895Z",
     "iopub.status.idle": "2024-08-31T20:39:25.609935Z",
     "shell.execute_reply": "2024-08-31T20:39:25.609026Z"
    },
    "papermill": {
     "duration": 0.056122,
     "end_time": "2024-08-31T20:39:25.612607",
     "exception": false,
     "start_time": "2024-08-31T20:39:25.556485",
     "status": "completed"
    },
    "tags": []
   },
   "outputs": [],
   "source": [
    "y_prob_rf = rf_model.predict_proba(x_test)[:, 1]\n",
    "y_prob_lr = lr_model.predict_proba(x_test)[:, 1]\n",
    "y_prob_dt = dt_model.predict_proba(x_test)[:, 1]"
   ]
  },
  {
   "cell_type": "code",
   "execution_count": 49,
   "id": "4f928e75",
   "metadata": {
    "execution": {
     "iopub.execute_input": "2024-08-31T20:39:25.673466Z",
     "iopub.status.busy": "2024-08-31T20:39:25.673004Z",
     "iopub.status.idle": "2024-08-31T20:39:25.683312Z",
     "shell.execute_reply": "2024-08-31T20:39:25.682333Z"
    },
    "papermill": {
     "duration": 0.043804,
     "end_time": "2024-08-31T20:39:25.685753",
     "exception": false,
     "start_time": "2024-08-31T20:39:25.641949",
     "status": "completed"
    },
    "tags": []
   },
   "outputs": [],
   "source": [
    "fpr_rf, tpr_rf, _ = roc_curve(y_test, y_prob_rf)\n",
    "fpr_lr, tpr_lr, _ = roc_curve(y_test, y_prob_lr)\n",
    "fpr_dt, tpr_dt, _ = roc_curve(y_test, y_prob_dt)"
   ]
  },
  {
   "cell_type": "code",
   "execution_count": 50,
   "id": "cc471d24",
   "metadata": {
    "execution": {
     "iopub.execute_input": "2024-08-31T20:39:25.745981Z",
     "iopub.status.busy": "2024-08-31T20:39:25.745202Z",
     "iopub.status.idle": "2024-08-31T20:39:25.751713Z",
     "shell.execute_reply": "2024-08-31T20:39:25.750564Z"
    },
    "papermill": {
     "duration": 0.039397,
     "end_time": "2024-08-31T20:39:25.754206",
     "exception": false,
     "start_time": "2024-08-31T20:39:25.714809",
     "status": "completed"
    },
    "tags": []
   },
   "outputs": [],
   "source": [
    "auc_rf = auc(fpr_rf, tpr_rf)\n",
    "auc_lr = auc(fpr_lr, tpr_lr)\n",
    "auc_dt = auc(fpr_dt, tpr_dt)"
   ]
  },
  {
   "cell_type": "code",
   "execution_count": 51,
   "id": "9bf59922",
   "metadata": {
    "execution": {
     "iopub.execute_input": "2024-08-31T20:39:25.813303Z",
     "iopub.status.busy": "2024-08-31T20:39:25.812867Z",
     "iopub.status.idle": "2024-08-31T20:39:26.178419Z",
     "shell.execute_reply": "2024-08-31T20:39:26.177285Z"
    },
    "papermill": {
     "duration": 0.398003,
     "end_time": "2024-08-31T20:39:26.181045",
     "exception": false,
     "start_time": "2024-08-31T20:39:25.783042",
     "status": "completed"
    },
    "tags": []
   },
   "outputs": [
    {
     "data": {
      "image/png": "[encoded data removed]",
      "text/plain": [
       "<Figure size 640x480 with 1 Axes>"
      ]
     },
     "metadata": {},
     "output_type": "display_data"
    }
   ],
   "source": [
    "plt.figure()\n",
    "plt.plot(fpr_rf, tpr_rf, color='blue', lw=2, label=f'Random Forest (AUC = {auc_rf:.2f})')\n",
    "plt.plot(fpr_lr, tpr_lr, color='green', lw=2, label=f'Logistic Regression (AUC = {auc_lr:.2f})')\n",
    "plt.plot(fpr_dt, tpr_dt, color='red', lw=2, label=f'Decision Tree (AUC = {auc_dt:.2f})')\n",
    "plt.plot([0, 1], [0, 1], color='gray', lw=1, linestyle='--')\n",
    "plt.xlim([0.0, 1.0])\n",
    "plt.ylim([0.0, 1.05])\n",
    "plt.xlabel('False Positive Rate')\n",
    "plt.ylabel('True Positive Rate')\n",
    "plt.title('ROC Curve')\n",
    "plt.legend(loc='lower right')\n",
    "plt.show()"
   ]
  }
 ],
 "metadata": {
  "kaggle": {
   "accelerator": "none",
   "dataSources": [
    {
     "databundleVersionId": 26502,
     "sourceId": 3136,
     "sourceType": "competition"
    }
   ],
   "dockerImageVersionId": 30761,
   "isGpuEnabled": false,
   "isInternetEnabled": true,
   "language": "python",
   "sourceType": "notebook"
  },
  "kernelspec": {
   "display_name": "Python 3",
   "language": "python",
   "name": "python3"
  },
  "language_info": {
   "codemirror_mode": {
    "name": "ipython",
    "version": 3
   },
   "file_extension": ".py",
   "mimetype": "text/x-python",
   "name": "python",
   "nbconvert_exporter": "python",
   "pygments_lexer": "ipython3",
   "version": "3.10.14"
  },
  "papermill": {
   "default_parameters": {},
   "duration": 14.148429,
   "end_time": "2024-08-31T20:39:26.932652",
   "environment_variables": {},
   "exception": null,
   "input_path": "__notebook__.ipynb",
   "output_path": "__notebook__.ipynb",
   "parameters": {},
   "start_time": "2024-08-31T20:39:12.784223",
   "version": "2.6.0"
  }
 },
 "nbformat": 4,
 "nbformat_minor": 5
}
